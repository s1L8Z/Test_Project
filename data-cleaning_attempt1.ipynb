{
 "metadata": {
  "language_info": {
   "codemirror_mode": {
    "name": "ipython",
    "version": 3
   },
   "file_extension": ".py",
   "mimetype": "text/x-python",
   "name": "python",
   "nbconvert_exporter": "python",
   "pygments_lexer": "ipython3",
   "version": "3.8.0"
  },
  "orig_nbformat": 2,
  "kernelspec": {
   "name": "python380jvsc74a57bd09313ea715190ebcfa0442918e9c190e054d6763b9e57ab30a990d6298c339c21",
   "display_name": "Python 3.8.0 32-bit"
  }
 },
 "nbformat": 4,
 "nbformat_minor": 2,
 "cells": [
  {
   "source": [
    "#### Pandas techniques used:\n",
    "* df.drop()\n",
    "https://pandas.pydata.org/pandas-docs/stable/reference/api/pandas.DataFrame.drop.html\n",
    "* df.columns[]\n",
    "* df.melt()\n",
    "https://pandas.pydata.org/docs/reference/api/pandas.DataFrame.melt.html\n",
    "* df.str.split()\n",
    "https://pandas.pydata.org/docs/reference/api/pandas.Series.str.split.html\n",
    "* df.astype()\n",
    "https://www.geeksforgeeks.org/change-data-type-for-one-or-more-columns-in-pandas-dataframe/ (Method 1, using dicts)\n",
    "* df.column.str.strip()\n",
    "* df.column.str.lstrip()\n",
    "* df.column.str.rstrip()\n",
    "* df.column.str.replace()\n",
    "* df.rename()\n",
    "* pd.set_option()\n",
    "* pd.reset_option()\n",
    "\n",
    "Insert a df.to_csv() into code to manually inspect entire dataset during cleaning process if stuck on debugging something."
   ],
   "cell_type": "markdown",
   "metadata": {}
  },
  {
   "source": [
    "#### Key Take-away Lessons:\n",
    "1. Text hiding in columns entries of continuous variables with many rows is VERY difficult to detect.\n",
    "    * .unique() will not work\n",
    "    * consider alternative techniques\n",
    "        * e.g. checking str length and looking for abnormalities"
   ],
   "cell_type": "markdown",
   "metadata": {}
  },
  {
   "cell_type": "code",
   "execution_count": 2,
   "metadata": {},
   "outputs": [],
   "source": [
    "# Importing relevant libraries\n",
    "import os as os\n",
    "import pandas as pd"
   ]
  },
  {
   "cell_type": "code",
   "execution_count": 3,
   "metadata": {},
   "outputs": [
    {
     "output_type": "execute_result",
     "data": {
      "text/plain": [
       "'c:\\\\Users\\\\silas\\\\Documents\\\\.EDUCATION\\\\_DATASETS\\\\DATA CLEANING PRACTICE\\\\WHO Obesity Rate Dataset'"
      ]
     },
     "metadata": {},
     "execution_count": 3
    }
   ],
   "source": [
    "# Setting file path\n",
    "os.chdir(r'C:\\Users\\silas\\Documents\\.EDUCATION\\_DATASETS\\DATA CLEANING PRACTICE\\WHO Obesity Rate Dataset')\n",
    "os.getcwd()"
   ]
  },
  {
   "cell_type": "code",
   "execution_count": 4,
   "metadata": {},
   "outputs": [
    {
     "output_type": "execute_result",
     "data": {
      "text/plain": [
       "                             Unnamed: 0  \\\n",
       "0                                   NaN   \n",
       "1                                   NaN   \n",
       "2                               Country   \n",
       "3                           Afghanistan   \n",
       "4                               Albania   \n",
       "..                                  ...   \n",
       "193  Venezuela (Bolivarian Republic of)   \n",
       "194                            Viet Nam   \n",
       "195                               Yemen   \n",
       "196                              Zambia   \n",
       "197                            Zimbabwe   \n",
       "\n",
       "                                                  2016  \\\n",
       "0    Prevalence of obesity among adults, BMI &Great...   \n",
       "1                                           18+  years   \n",
       "2                                           Both sexes   \n",
       "3                                        5.5 [3.4-8.1]   \n",
       "4                                     21.7 [17.0-26.7]   \n",
       "..                                                 ...   \n",
       "193                                   25.6 [21.3-30.2]   \n",
       "194                                      2.1 [1.4-3.1]   \n",
       "195                                   17.1 [13.3-21.3]   \n",
       "196                                     8.1 [5.8-10.7]   \n",
       "197                                   15.5 [12.0-19.2]   \n",
       "\n",
       "                                                2016.1  \\\n",
       "0    Prevalence of obesity among adults, BMI &Great...   \n",
       "1                                           18+  years   \n",
       "2                                                 Male   \n",
       "3                                        3.2 [1.3-6.4]   \n",
       "4                                     21.6 [14.8-29.0]   \n",
       "..                                                 ...   \n",
       "193                                   22.4 [16.4-28.9]   \n",
       "194                                      1.6 [0.8-2.8]   \n",
       "195                                    12.0 [7.3-17.6]   \n",
       "196                                      3.6 [1.7-6.5]   \n",
       "197                                      4.7 [2.5-8.0]   \n",
       "\n",
       "                                                2016.2  \\\n",
       "0    Prevalence of obesity among adults, BMI &Great...   \n",
       "1                                           18+  years   \n",
       "2                                               Female   \n",
       "3                                       7.6 [4.3-12.4]   \n",
       "4                                     21.8 [15.3-28.9]   \n",
       "..                                                 ...   \n",
       "193                                   28.6 [22.5-35.2]   \n",
       "194                                      2.6 [1.5-4.2]   \n",
       "195                                   22.0 [16.0-28.4]   \n",
       "196                                    12.4 [8.5-17.1]   \n",
       "197                                   25.3 [19.1-32.0]   \n",
       "\n",
       "                                                  2015  \\\n",
       "0    Prevalence of obesity among adults, BMI &Great...   \n",
       "1                                           18+  years   \n",
       "2                                           Both sexes   \n",
       "3                                        5.2 [3.3-7.7]   \n",
       "4                                     21.1 [16.6-26.0]   \n",
       "..                                                 ...   \n",
       "193                                   25.2 [21.0-29.5]   \n",
       "194                                      2.0 [1.3-2.9]   \n",
       "195                                   16.5 [12.9-20.5]   \n",
       "196                                     7.7 [5.6-10.2]   \n",
       "197                                   15.2 [11.9-18.8]   \n",
       "\n",
       "                                                2015.1  \\\n",
       "0    Prevalence of obesity among adults, BMI &Great...   \n",
       "1                                           18+  years   \n",
       "2                                                 Male   \n",
       "3                                        3.0 [1.3-6.0]   \n",
       "4                                     20.9 [14.4-28.1]   \n",
       "..                                                 ...   \n",
       "193                                   22.0 [16.2-28.2]   \n",
       "194                                      1.5 [0.8-2.5]   \n",
       "195                                    11.4 [7.0-16.7]   \n",
       "196                                      3.4 [1.6-6.1]   \n",
       "197                                      4.5 [2.4-7.6]   \n",
       "\n",
       "                                                2015.2  \\\n",
       "0    Prevalence of obesity among adults, BMI &Great...   \n",
       "1                                           18+  years   \n",
       "2                                               Female   \n",
       "3                                       7.3 [4.1-11.8]   \n",
       "4                                     21.3 [15.1-28.1]   \n",
       "..                                                 ...   \n",
       "193                                   28.3 [22.4-34.6]   \n",
       "194                                      2.4 [1.4-3.9]   \n",
       "195                                   21.3 [15.6-27.4]   \n",
       "196                                    12.0 [8.2-16.4]   \n",
       "197                                   24.8 [18.9-31.3]   \n",
       "\n",
       "                                                  2014  \\\n",
       "0    Prevalence of obesity among adults, BMI &Great...   \n",
       "1                                           18+  years   \n",
       "2                                           Both sexes   \n",
       "3                                        4.9 [3.1-7.3]   \n",
       "4                                     20.5 [16.2-25.1]   \n",
       "..                                                 ...   \n",
       "193                                   24.8 [20.8-29.0]   \n",
       "194                                      1.8 [1.2-2.6]   \n",
       "195                                   15.9 [12.4-19.6]   \n",
       "196                                      7.4 [5.4-9.8]   \n",
       "197                                   14.9 [11.7-18.4]   \n",
       "\n",
       "                                                2014.1  \\\n",
       "0    Prevalence of obesity among adults, BMI &Great...   \n",
       "1                                           18+  years   \n",
       "2                                                 Male   \n",
       "3                                        2.8 [1.2-5.6]   \n",
       "4                                     20.2 [13.9-27.3]   \n",
       "..                                                 ...   \n",
       "193                                   21.5 [16.0-27.4]   \n",
       "194                                      1.3 [0.7-2.3]   \n",
       "195                                    10.8 [6.7-15.7]   \n",
       "196                                      3.2 [1.5-5.7]   \n",
       "197                                      4.4 [2.4-7.3]   \n",
       "\n",
       "                                                2014.2  ...  \\\n",
       "0    Prevalence of obesity among adults, BMI &Great...  ...   \n",
       "1                                           18+  years  ...   \n",
       "2                                               Female  ...   \n",
       "3                                       7.0 [4.0-11.3]  ...   \n",
       "4                                     20.8 [14.9-27.4]  ...   \n",
       "..                                                 ...  ...   \n",
       "193                                   27.9 [22.2-34.1]  ...   \n",
       "194                                      2.3 [1.3-3.6]  ...   \n",
       "195                                   20.6 [15.2-26.4]  ...   \n",
       "196                                    11.5 [7.9-15.7]  ...   \n",
       "197                                   24.4 [18.8-30.6]  ...   \n",
       "\n",
       "                                                1978.2  \\\n",
       "0    Prevalence of obesity among adults, BMI &Great...   \n",
       "1                                           18+  years   \n",
       "2                                               Female   \n",
       "3                                        0.9 [0.3-2.2]   \n",
       "4                                       9.1 [4.6-15.5]   \n",
       "..                                                 ...   \n",
       "193                                    14.4 [8.4-21.4]   \n",
       "194                                      0.2 [0.1-0.6]   \n",
       "195                                      4.8 [2.0-9.3]   \n",
       "196                                      3.0 [1.3-5.6]   \n",
       "197                                     7.7 [3.9-13.1]   \n",
       "\n",
       "                                                  1977  \\\n",
       "0    Prevalence of obesity among adults, BMI &Great...   \n",
       "1                                           18+  years   \n",
       "2                                           Both sexes   \n",
       "3                                        0.6 [0.2-1.2]   \n",
       "4                                       6.8 [4.0-10.7]   \n",
       "..                                                 ...   \n",
       "193                                    10.3 [6.7-14.6]   \n",
       "194                                      0.2 [0.1-0.3]   \n",
       "195                                      3.1 [1.5-5.7]   \n",
       "196                                      1.7 [0.8-3.2]   \n",
       "197                                      4.0 [2.1-6.8]   \n",
       "\n",
       "                                                1977.1  \\\n",
       "0    Prevalence of obesity among adults, BMI &Great...   \n",
       "1                                           18+  years   \n",
       "2                                                 Male   \n",
       "3                                        0.2 [0.0-0.7]   \n",
       "4                                        4.8 [2.0-9.3]   \n",
       "..                                                 ...   \n",
       "193                                     6.6 [3.2-11.7]   \n",
       "194                                      0.1 [0.0-0.2]   \n",
       "195                                      1.3 [0.4-3.3]   \n",
       "196                                      0.5 [0.1-1.5]   \n",
       "197                                      0.5 [0.1-1.3]   \n",
       "\n",
       "                                                1977.2  \\\n",
       "0    Prevalence of obesity among adults, BMI &Great...   \n",
       "1                                           18+  years   \n",
       "2                                               Female   \n",
       "3                                        0.9 [0.3-2.1]   \n",
       "4                                       8.9 [4.3-15.4]   \n",
       "..                                                 ...   \n",
       "193                                    14.0 [8.0-21.3]   \n",
       "194                                      0.2 [0.1-0.5]   \n",
       "195                                      4.5 [1.9-9.2]   \n",
       "196                                      2.9 [1.2-5.4]   \n",
       "197                                     7.4 [3.6-12.7]   \n",
       "\n",
       "                                                  1976  \\\n",
       "0    Prevalence of obesity among adults, BMI &Great...   \n",
       "1                                           18+  years   \n",
       "2                                           Both sexes   \n",
       "3                                        0.5 [0.2-1.1]   \n",
       "4                                       6.7 [3.8-10.6]   \n",
       "..                                                 ...   \n",
       "193                                     9.9 [6.3-14.3]   \n",
       "194                                      0.1 [0.1-0.3]   \n",
       "195                                      2.9 [1.4-5.6]   \n",
       "196                                      1.6 [0.7-3.1]   \n",
       "197                                      3.9 [1.9-6.7]   \n",
       "\n",
       "                                                1976.1  \\\n",
       "0    Prevalence of obesity among adults, BMI &Great...   \n",
       "1                                           18+  years   \n",
       "2                                                 Male   \n",
       "3                                        0.2 [0.0-0.7]   \n",
       "4                                        4.6 [1.8-9.2]   \n",
       "..                                                 ...   \n",
       "193                                     6.3 [2.9-11.5]   \n",
       "194                                      0.1 [0.0-0.2]   \n",
       "195                                      1.3 [0.3-3.2]   \n",
       "196                                      0.5 [0.1-1.4]   \n",
       "197                                      0.5 [0.1-1.3]   \n",
       "\n",
       "                                                1976.2  \\\n",
       "0    Prevalence of obesity among adults, BMI &Great...   \n",
       "1                                           18+  years   \n",
       "2                                               Female   \n",
       "3                                        0.8 [0.2-2.0]   \n",
       "4                                       8.8 [4.1-15.4]   \n",
       "..                                                 ...   \n",
       "193                                    13.6 [7.5-21.0]   \n",
       "194                                      0.2 [0.1-0.5]   \n",
       "195                                      4.3 [1.7-9.0]   \n",
       "196                                      2.7 [1.1-5.3]   \n",
       "197                                     7.0 [3.3-12.4]   \n",
       "\n",
       "                                                  1975  \\\n",
       "0    Prevalence of obesity among adults, BMI &Great...   \n",
       "1                                           18+  years   \n",
       "2                                           Both sexes   \n",
       "3                                        0.5 [0.2-1.1]   \n",
       "4                                       6.5 [3.6-10.5]   \n",
       "..                                                 ...   \n",
       "193                                     9.6 [5.9-14.1]   \n",
       "194                                      0.1 [0.0-0.3]   \n",
       "195                                      2.8 [1.3-5.4]   \n",
       "196                                      1.5 [0.7-3.0]   \n",
       "197                                      3.7 [1.7-6.5]   \n",
       "\n",
       "                                                1975.1  \\\n",
       "0    Prevalence of obesity among adults, BMI &Great...   \n",
       "1                                           18+  years   \n",
       "2                                                 Male   \n",
       "3                                        0.2 [0.0-0.6]   \n",
       "4                                        4.4 [1.7-9.2]   \n",
       "..                                                 ...   \n",
       "193                                     5.9 [2.7-11.2]   \n",
       "194                                      0.1 [0.0-0.2]   \n",
       "195                                      1.2 [0.3-3.1]   \n",
       "196                                      0.5 [0.1-1.4]   \n",
       "197                                      0.4 [0.1-1.3]   \n",
       "\n",
       "                                                1975.2  \n",
       "0    Prevalence of obesity among adults, BMI &Great...  \n",
       "1                                           18+  years  \n",
       "2                                               Female  \n",
       "3                                        0.8 [0.2-2.0]  \n",
       "4                                       8.6 [3.9-15.4]  \n",
       "..                                                 ...  \n",
       "193                                    13.2 [7.1-20.7]  \n",
       "194                                      0.2 [0.1-0.5]  \n",
       "195                                      4.2 [1.5-8.9]  \n",
       "196                                      2.5 [1.0-5.1]  \n",
       "197                                     6.7 [3.0-12.2]  \n",
       "\n",
       "[198 rows x 127 columns]"
      ],
      "text/html": "<div>\n<style scoped>\n    .dataframe tbody tr th:only-of-type {\n        vertical-align: middle;\n    }\n\n    .dataframe tbody tr th {\n        vertical-align: top;\n    }\n\n    .dataframe thead th {\n        text-align: right;\n    }\n</style>\n<table border=\"1\" class=\"dataframe\">\n  <thead>\n    <tr style=\"text-align: right;\">\n      <th></th>\n      <th>Unnamed: 0</th>\n      <th>2016</th>\n      <th>2016.1</th>\n      <th>2016.2</th>\n      <th>2015</th>\n      <th>2015.1</th>\n      <th>2015.2</th>\n      <th>2014</th>\n      <th>2014.1</th>\n      <th>2014.2</th>\n      <th>...</th>\n      <th>1978.2</th>\n      <th>1977</th>\n      <th>1977.1</th>\n      <th>1977.2</th>\n      <th>1976</th>\n      <th>1976.1</th>\n      <th>1976.2</th>\n      <th>1975</th>\n      <th>1975.1</th>\n      <th>1975.2</th>\n    </tr>\n  </thead>\n  <tbody>\n    <tr>\n      <th>0</th>\n      <td>NaN</td>\n      <td>Prevalence of obesity among adults, BMI &amp;Great...</td>\n      <td>Prevalence of obesity among adults, BMI &amp;Great...</td>\n      <td>Prevalence of obesity among adults, BMI &amp;Great...</td>\n      <td>Prevalence of obesity among adults, BMI &amp;Great...</td>\n      <td>Prevalence of obesity among adults, BMI &amp;Great...</td>\n      <td>Prevalence of obesity among adults, BMI &amp;Great...</td>\n      <td>Prevalence of obesity among adults, BMI &amp;Great...</td>\n      <td>Prevalence of obesity among adults, BMI &amp;Great...</td>\n      <td>Prevalence of obesity among adults, BMI &amp;Great...</td>\n      <td>...</td>\n      <td>Prevalence of obesity among adults, BMI &amp;Great...</td>\n      <td>Prevalence of obesity among adults, BMI &amp;Great...</td>\n      <td>Prevalence of obesity among adults, BMI &amp;Great...</td>\n      <td>Prevalence of obesity among adults, BMI &amp;Great...</td>\n      <td>Prevalence of obesity among adults, BMI &amp;Great...</td>\n      <td>Prevalence of obesity among adults, BMI &amp;Great...</td>\n      <td>Prevalence of obesity among adults, BMI &amp;Great...</td>\n      <td>Prevalence of obesity among adults, BMI &amp;Great...</td>\n      <td>Prevalence of obesity among adults, BMI &amp;Great...</td>\n      <td>Prevalence of obesity among adults, BMI &amp;Great...</td>\n    </tr>\n    <tr>\n      <th>1</th>\n      <td>NaN</td>\n      <td>18+  years</td>\n      <td>18+  years</td>\n      <td>18+  years</td>\n      <td>18+  years</td>\n      <td>18+  years</td>\n      <td>18+  years</td>\n      <td>18+  years</td>\n      <td>18+  years</td>\n      <td>18+  years</td>\n      <td>...</td>\n      <td>18+  years</td>\n      <td>18+  years</td>\n      <td>18+  years</td>\n      <td>18+  years</td>\n      <td>18+  years</td>\n      <td>18+  years</td>\n      <td>18+  years</td>\n      <td>18+  years</td>\n      <td>18+  years</td>\n      <td>18+  years</td>\n    </tr>\n    <tr>\n      <th>2</th>\n      <td>Country</td>\n      <td>Both sexes</td>\n      <td>Male</td>\n      <td>Female</td>\n      <td>Both sexes</td>\n      <td>Male</td>\n      <td>Female</td>\n      <td>Both sexes</td>\n      <td>Male</td>\n      <td>Female</td>\n      <td>...</td>\n      <td>Female</td>\n      <td>Both sexes</td>\n      <td>Male</td>\n      <td>Female</td>\n      <td>Both sexes</td>\n      <td>Male</td>\n      <td>Female</td>\n      <td>Both sexes</td>\n      <td>Male</td>\n      <td>Female</td>\n    </tr>\n    <tr>\n      <th>3</th>\n      <td>Afghanistan</td>\n      <td>5.5 [3.4-8.1]</td>\n      <td>3.2 [1.3-6.4]</td>\n      <td>7.6 [4.3-12.4]</td>\n      <td>5.2 [3.3-7.7]</td>\n      <td>3.0 [1.3-6.0]</td>\n      <td>7.3 [4.1-11.8]</td>\n      <td>4.9 [3.1-7.3]</td>\n      <td>2.8 [1.2-5.6]</td>\n      <td>7.0 [4.0-11.3]</td>\n      <td>...</td>\n      <td>0.9 [0.3-2.2]</td>\n      <td>0.6 [0.2-1.2]</td>\n      <td>0.2 [0.0-0.7]</td>\n      <td>0.9 [0.3-2.1]</td>\n      <td>0.5 [0.2-1.1]</td>\n      <td>0.2 [0.0-0.7]</td>\n      <td>0.8 [0.2-2.0]</td>\n      <td>0.5 [0.2-1.1]</td>\n      <td>0.2 [0.0-0.6]</td>\n      <td>0.8 [0.2-2.0]</td>\n    </tr>\n    <tr>\n      <th>4</th>\n      <td>Albania</td>\n      <td>21.7 [17.0-26.7]</td>\n      <td>21.6 [14.8-29.0]</td>\n      <td>21.8 [15.3-28.9]</td>\n      <td>21.1 [16.6-26.0]</td>\n      <td>20.9 [14.4-28.1]</td>\n      <td>21.3 [15.1-28.1]</td>\n      <td>20.5 [16.2-25.1]</td>\n      <td>20.2 [13.9-27.3]</td>\n      <td>20.8 [14.9-27.4]</td>\n      <td>...</td>\n      <td>9.1 [4.6-15.5]</td>\n      <td>6.8 [4.0-10.7]</td>\n      <td>4.8 [2.0-9.3]</td>\n      <td>8.9 [4.3-15.4]</td>\n      <td>6.7 [3.8-10.6]</td>\n      <td>4.6 [1.8-9.2]</td>\n      <td>8.8 [4.1-15.4]</td>\n      <td>6.5 [3.6-10.5]</td>\n      <td>4.4 [1.7-9.2]</td>\n      <td>8.6 [3.9-15.4]</td>\n    </tr>\n    <tr>\n      <th>...</th>\n      <td>...</td>\n      <td>...</td>\n      <td>...</td>\n      <td>...</td>\n      <td>...</td>\n      <td>...</td>\n      <td>...</td>\n      <td>...</td>\n      <td>...</td>\n      <td>...</td>\n      <td>...</td>\n      <td>...</td>\n      <td>...</td>\n      <td>...</td>\n      <td>...</td>\n      <td>...</td>\n      <td>...</td>\n      <td>...</td>\n      <td>...</td>\n      <td>...</td>\n      <td>...</td>\n    </tr>\n    <tr>\n      <th>193</th>\n      <td>Venezuela (Bolivarian Republic of)</td>\n      <td>25.6 [21.3-30.2]</td>\n      <td>22.4 [16.4-28.9]</td>\n      <td>28.6 [22.5-35.2]</td>\n      <td>25.2 [21.0-29.5]</td>\n      <td>22.0 [16.2-28.2]</td>\n      <td>28.3 [22.4-34.6]</td>\n      <td>24.8 [20.8-29.0]</td>\n      <td>21.5 [16.0-27.4]</td>\n      <td>27.9 [22.2-34.1]</td>\n      <td>...</td>\n      <td>14.4 [8.4-21.4]</td>\n      <td>10.3 [6.7-14.6]</td>\n      <td>6.6 [3.2-11.7]</td>\n      <td>14.0 [8.0-21.3]</td>\n      <td>9.9 [6.3-14.3]</td>\n      <td>6.3 [2.9-11.5]</td>\n      <td>13.6 [7.5-21.0]</td>\n      <td>9.6 [5.9-14.1]</td>\n      <td>5.9 [2.7-11.2]</td>\n      <td>13.2 [7.1-20.7]</td>\n    </tr>\n    <tr>\n      <th>194</th>\n      <td>Viet Nam</td>\n      <td>2.1 [1.4-3.1]</td>\n      <td>1.6 [0.8-2.8]</td>\n      <td>2.6 [1.5-4.2]</td>\n      <td>2.0 [1.3-2.9]</td>\n      <td>1.5 [0.8-2.5]</td>\n      <td>2.4 [1.4-3.9]</td>\n      <td>1.8 [1.2-2.6]</td>\n      <td>1.3 [0.7-2.3]</td>\n      <td>2.3 [1.3-3.6]</td>\n      <td>...</td>\n      <td>0.2 [0.1-0.6]</td>\n      <td>0.2 [0.1-0.3]</td>\n      <td>0.1 [0.0-0.2]</td>\n      <td>0.2 [0.1-0.5]</td>\n      <td>0.1 [0.1-0.3]</td>\n      <td>0.1 [0.0-0.2]</td>\n      <td>0.2 [0.1-0.5]</td>\n      <td>0.1 [0.0-0.3]</td>\n      <td>0.1 [0.0-0.2]</td>\n      <td>0.2 [0.1-0.5]</td>\n    </tr>\n    <tr>\n      <th>195</th>\n      <td>Yemen</td>\n      <td>17.1 [13.3-21.3]</td>\n      <td>12.0 [7.3-17.6]</td>\n      <td>22.0 [16.0-28.4]</td>\n      <td>16.5 [12.9-20.5]</td>\n      <td>11.4 [7.0-16.7]</td>\n      <td>21.3 [15.6-27.4]</td>\n      <td>15.9 [12.4-19.6]</td>\n      <td>10.8 [6.7-15.7]</td>\n      <td>20.6 [15.2-26.4]</td>\n      <td>...</td>\n      <td>4.8 [2.0-9.3]</td>\n      <td>3.1 [1.5-5.7]</td>\n      <td>1.3 [0.4-3.3]</td>\n      <td>4.5 [1.9-9.2]</td>\n      <td>2.9 [1.4-5.6]</td>\n      <td>1.3 [0.3-3.2]</td>\n      <td>4.3 [1.7-9.0]</td>\n      <td>2.8 [1.3-5.4]</td>\n      <td>1.2 [0.3-3.1]</td>\n      <td>4.2 [1.5-8.9]</td>\n    </tr>\n    <tr>\n      <th>196</th>\n      <td>Zambia</td>\n      <td>8.1 [5.8-10.7]</td>\n      <td>3.6 [1.7-6.5]</td>\n      <td>12.4 [8.5-17.1]</td>\n      <td>7.7 [5.6-10.2]</td>\n      <td>3.4 [1.6-6.1]</td>\n      <td>12.0 [8.2-16.4]</td>\n      <td>7.4 [5.4-9.8]</td>\n      <td>3.2 [1.5-5.7]</td>\n      <td>11.5 [7.9-15.7]</td>\n      <td>...</td>\n      <td>3.0 [1.3-5.6]</td>\n      <td>1.7 [0.8-3.2]</td>\n      <td>0.5 [0.1-1.5]</td>\n      <td>2.9 [1.2-5.4]</td>\n      <td>1.6 [0.7-3.1]</td>\n      <td>0.5 [0.1-1.4]</td>\n      <td>2.7 [1.1-5.3]</td>\n      <td>1.5 [0.7-3.0]</td>\n      <td>0.5 [0.1-1.4]</td>\n      <td>2.5 [1.0-5.1]</td>\n    </tr>\n    <tr>\n      <th>197</th>\n      <td>Zimbabwe</td>\n      <td>15.5 [12.0-19.2]</td>\n      <td>4.7 [2.5-8.0]</td>\n      <td>25.3 [19.1-32.0]</td>\n      <td>15.2 [11.9-18.8]</td>\n      <td>4.5 [2.4-7.6]</td>\n      <td>24.8 [18.9-31.3]</td>\n      <td>14.9 [11.7-18.4]</td>\n      <td>4.4 [2.4-7.3]</td>\n      <td>24.4 [18.8-30.6]</td>\n      <td>...</td>\n      <td>7.7 [3.9-13.1]</td>\n      <td>4.0 [2.1-6.8]</td>\n      <td>0.5 [0.1-1.3]</td>\n      <td>7.4 [3.6-12.7]</td>\n      <td>3.9 [1.9-6.7]</td>\n      <td>0.5 [0.1-1.3]</td>\n      <td>7.0 [3.3-12.4]</td>\n      <td>3.7 [1.7-6.5]</td>\n      <td>0.4 [0.1-1.3]</td>\n      <td>6.7 [3.0-12.2]</td>\n    </tr>\n  </tbody>\n</table>\n<p>198 rows × 127 columns</p>\n</div>"
     },
     "metadata": {},
     "execution_count": 4
    }
   ],
   "source": [
    "# Importing raw data\n",
    "rawdata = pd.read_csv('raw-data.csv')\n",
    "rawdata"
   ]
  },
  {
   "cell_type": "code",
   "execution_count": 5,
   "metadata": {},
   "outputs": [
    {
     "output_type": "execute_result",
     "data": {
      "text/plain": [
       "                             Unnamed: 0              2016            2016.1  \\\n",
       "3                           Afghanistan     5.5 [3.4-8.1]     3.2 [1.3-6.4]   \n",
       "4                               Albania  21.7 [17.0-26.7]  21.6 [14.8-29.0]   \n",
       "5                               Algeria  27.4 [22.5-32.7]  19.9 [13.6-27.1]   \n",
       "6                               Andorra  25.6 [20.1-31.3]  25.9 [18.0-34.3]   \n",
       "7                                Angola    8.2 [5.1-12.2]     4.0 [1.6-7.9]   \n",
       "..                                  ...               ...               ...   \n",
       "193  Venezuela (Bolivarian Republic of)  25.6 [21.3-30.2]  22.4 [16.4-28.9]   \n",
       "194                            Viet Nam     2.1 [1.4-3.1]     1.6 [0.8-2.8]   \n",
       "195                               Yemen  17.1 [13.3-21.3]   12.0 [7.3-17.6]   \n",
       "196                              Zambia    8.1 [5.8-10.7]     3.6 [1.7-6.5]   \n",
       "197                            Zimbabwe  15.5 [12.0-19.2]     4.7 [2.5-8.0]   \n",
       "\n",
       "               2016.2              2015            2015.1            2015.2  \\\n",
       "3      7.6 [4.3-12.4]     5.2 [3.3-7.7]     3.0 [1.3-6.0]    7.3 [4.1-11.8]   \n",
       "4    21.8 [15.3-28.9]  21.1 [16.6-26.0]  20.9 [14.4-28.1]  21.3 [15.1-28.1]   \n",
       "5    34.9 [27.6-42.7]  26.7 [21.9-31.8]  19.2 [13.2-26.1]  34.2 [27.1-41.7]   \n",
       "6    25.3 [17.7-33.7]  25.4 [20.1-31.0]  25.5 [17.8-33.8]  25.2 [17.7-33.4]   \n",
       "7     12.1 [6.8-19.0]    7.9 [4.9-11.7]     3.8 [1.5-7.3]   11.6 [6.5-18.2]   \n",
       "..                ...               ...               ...               ...   \n",
       "193  28.6 [22.5-35.2]  25.2 [21.0-29.5]  22.0 [16.2-28.2]  28.3 [22.4-34.6]   \n",
       "194     2.6 [1.5-4.2]     2.0 [1.3-2.9]     1.5 [0.8-2.5]     2.4 [1.4-3.9]   \n",
       "195  22.0 [16.0-28.4]  16.5 [12.9-20.5]   11.4 [7.0-16.7]  21.3 [15.6-27.4]   \n",
       "196   12.4 [8.5-17.1]    7.7 [5.6-10.2]     3.4 [1.6-6.1]   12.0 [8.2-16.4]   \n",
       "197  25.3 [19.1-32.0]  15.2 [11.9-18.8]     4.5 [2.4-7.6]  24.8 [18.9-31.3]   \n",
       "\n",
       "                 2014            2014.1            2014.2  ...  \\\n",
       "3       4.9 [3.1-7.3]     2.8 [1.2-5.6]    7.0 [4.0-11.3]  ...   \n",
       "4    20.5 [16.2-25.1]  20.2 [13.9-27.3]  20.8 [14.9-27.4]  ...   \n",
       "5    26.0 [21.4-30.9]  18.5 [12.7-25.0]  33.6 [26.7-40.7]  ...   \n",
       "6    25.2 [20.0-30.7]  25.2 [17.6-33.3]  25.1 [17.8-33.1]  ...   \n",
       "7      7.5 [4.7-11.2]     3.6 [1.4-6.9]   11.1 [6.2-17.5]  ...   \n",
       "..                ...               ...               ...  ...   \n",
       "193  24.8 [20.8-29.0]  21.5 [16.0-27.4]  27.9 [22.2-34.1]  ...   \n",
       "194     1.8 [1.2-2.6]     1.3 [0.7-2.3]     2.3 [1.3-3.6]  ...   \n",
       "195  15.9 [12.4-19.6]   10.8 [6.7-15.7]  20.6 [15.2-26.4]  ...   \n",
       "196     7.4 [5.4-9.8]     3.2 [1.5-5.7]   11.5 [7.9-15.7]  ...   \n",
       "197  14.9 [11.7-18.4]     4.4 [2.4-7.3]  24.4 [18.8-30.6]  ...   \n",
       "\n",
       "               1978.2             1977           1977.1            1977.2  \\\n",
       "3       0.9 [0.3-2.2]    0.6 [0.2-1.2]    0.2 [0.0-0.7]     0.9 [0.3-2.1]   \n",
       "4      9.1 [4.6-15.5]   6.8 [4.0-10.7]    4.8 [2.0-9.3]    8.9 [4.3-15.4]   \n",
       "5     11.8 [6.5-18.6]   7.4 [4.3-11.3]    3.1 [1.2-6.2]   11.4 [6.2-18.4]   \n",
       "6    17.5 [10.9-25.3]  14.0 [9.6-19.1]  10.7 [5.6-17.4]  16.9 [10.4-24.8]   \n",
       "7       1.6 [0.5-3.7]    0.9 [0.3-2.0]    0.3 [0.0-0.9]     1.5 [0.4-3.6]   \n",
       "..                ...              ...              ...               ...   \n",
       "193   14.4 [8.4-21.4]  10.3 [6.7-14.6]   6.6 [3.2-11.7]   14.0 [8.0-21.3]   \n",
       "194     0.2 [0.1-0.6]    0.2 [0.1-0.3]    0.1 [0.0-0.2]     0.2 [0.1-0.5]   \n",
       "195     4.8 [2.0-9.3]    3.1 [1.5-5.7]    1.3 [0.4-3.3]     4.5 [1.9-9.2]   \n",
       "196     3.0 [1.3-5.6]    1.7 [0.8-3.2]    0.5 [0.1-1.5]     2.9 [1.2-5.4]   \n",
       "197    7.7 [3.9-13.1]    4.0 [2.1-6.8]    0.5 [0.1-1.3]    7.4 [3.6-12.7]   \n",
       "\n",
       "                1976           1976.1           1976.2             1975  \\\n",
       "3      0.5 [0.2-1.1]    0.2 [0.0-0.7]    0.8 [0.2-2.0]    0.5 [0.2-1.1]   \n",
       "4     6.7 [3.8-10.6]    4.6 [1.8-9.2]   8.8 [4.1-15.4]   6.5 [3.6-10.5]   \n",
       "5     7.2 [4.1-11.1]    2.9 [1.1-6.1]  11.1 [5.8-18.2]   6.9 [3.9-10.9]   \n",
       "6    13.5 [9.1-18.6]  10.2 [5.2-16.9]  16.4 [9.8-24.4]  12.9 [8.6-18.1]   \n",
       "7      0.9 [0.3-2.0]    0.3 [0.0-0.9]    1.4 [0.4-3.5]    0.8 [0.3-1.9]   \n",
       "..               ...              ...              ...              ...   \n",
       "193   9.9 [6.3-14.3]   6.3 [2.9-11.5]  13.6 [7.5-21.0]   9.6 [5.9-14.1]   \n",
       "194    0.1 [0.1-0.3]    0.1 [0.0-0.2]    0.2 [0.1-0.5]    0.1 [0.0-0.3]   \n",
       "195    2.9 [1.4-5.6]    1.3 [0.3-3.2]    4.3 [1.7-9.0]    2.8 [1.3-5.4]   \n",
       "196    1.6 [0.7-3.1]    0.5 [0.1-1.4]    2.7 [1.1-5.3]    1.5 [0.7-3.0]   \n",
       "197    3.9 [1.9-6.7]    0.5 [0.1-1.3]   7.0 [3.3-12.4]    3.7 [1.7-6.5]   \n",
       "\n",
       "             1975.1           1975.2  \n",
       "3     0.2 [0.0-0.6]    0.8 [0.2-2.0]  \n",
       "4     4.4 [1.7-9.2]   8.6 [3.9-15.4]  \n",
       "5     2.8 [1.0-6.0]  10.7 [5.5-18.0]  \n",
       "6    9.7 [4.7-16.3]  15.8 [9.2-23.9]  \n",
       "7     0.2 [0.0-0.8]    1.4 [0.4-3.4]  \n",
       "..              ...              ...  \n",
       "193  5.9 [2.7-11.2]  13.2 [7.1-20.7]  \n",
       "194   0.1 [0.0-0.2]    0.2 [0.1-0.5]  \n",
       "195   1.2 [0.3-3.1]    4.2 [1.5-8.9]  \n",
       "196   0.5 [0.1-1.4]    2.5 [1.0-5.1]  \n",
       "197   0.4 [0.1-1.3]   6.7 [3.0-12.2]  \n",
       "\n",
       "[195 rows x 127 columns]"
      ],
      "text/html": "<div>\n<style scoped>\n    .dataframe tbody tr th:only-of-type {\n        vertical-align: middle;\n    }\n\n    .dataframe tbody tr th {\n        vertical-align: top;\n    }\n\n    .dataframe thead th {\n        text-align: right;\n    }\n</style>\n<table border=\"1\" class=\"dataframe\">\n  <thead>\n    <tr style=\"text-align: right;\">\n      <th></th>\n      <th>Unnamed: 0</th>\n      <th>2016</th>\n      <th>2016.1</th>\n      <th>2016.2</th>\n      <th>2015</th>\n      <th>2015.1</th>\n      <th>2015.2</th>\n      <th>2014</th>\n      <th>2014.1</th>\n      <th>2014.2</th>\n      <th>...</th>\n      <th>1978.2</th>\n      <th>1977</th>\n      <th>1977.1</th>\n      <th>1977.2</th>\n      <th>1976</th>\n      <th>1976.1</th>\n      <th>1976.2</th>\n      <th>1975</th>\n      <th>1975.1</th>\n      <th>1975.2</th>\n    </tr>\n  </thead>\n  <tbody>\n    <tr>\n      <th>3</th>\n      <td>Afghanistan</td>\n      <td>5.5 [3.4-8.1]</td>\n      <td>3.2 [1.3-6.4]</td>\n      <td>7.6 [4.3-12.4]</td>\n      <td>5.2 [3.3-7.7]</td>\n      <td>3.0 [1.3-6.0]</td>\n      <td>7.3 [4.1-11.8]</td>\n      <td>4.9 [3.1-7.3]</td>\n      <td>2.8 [1.2-5.6]</td>\n      <td>7.0 [4.0-11.3]</td>\n      <td>...</td>\n      <td>0.9 [0.3-2.2]</td>\n      <td>0.6 [0.2-1.2]</td>\n      <td>0.2 [0.0-0.7]</td>\n      <td>0.9 [0.3-2.1]</td>\n      <td>0.5 [0.2-1.1]</td>\n      <td>0.2 [0.0-0.7]</td>\n      <td>0.8 [0.2-2.0]</td>\n      <td>0.5 [0.2-1.1]</td>\n      <td>0.2 [0.0-0.6]</td>\n      <td>0.8 [0.2-2.0]</td>\n    </tr>\n    <tr>\n      <th>4</th>\n      <td>Albania</td>\n      <td>21.7 [17.0-26.7]</td>\n      <td>21.6 [14.8-29.0]</td>\n      <td>21.8 [15.3-28.9]</td>\n      <td>21.1 [16.6-26.0]</td>\n      <td>20.9 [14.4-28.1]</td>\n      <td>21.3 [15.1-28.1]</td>\n      <td>20.5 [16.2-25.1]</td>\n      <td>20.2 [13.9-27.3]</td>\n      <td>20.8 [14.9-27.4]</td>\n      <td>...</td>\n      <td>9.1 [4.6-15.5]</td>\n      <td>6.8 [4.0-10.7]</td>\n      <td>4.8 [2.0-9.3]</td>\n      <td>8.9 [4.3-15.4]</td>\n      <td>6.7 [3.8-10.6]</td>\n      <td>4.6 [1.8-9.2]</td>\n      <td>8.8 [4.1-15.4]</td>\n      <td>6.5 [3.6-10.5]</td>\n      <td>4.4 [1.7-9.2]</td>\n      <td>8.6 [3.9-15.4]</td>\n    </tr>\n    <tr>\n      <th>5</th>\n      <td>Algeria</td>\n      <td>27.4 [22.5-32.7]</td>\n      <td>19.9 [13.6-27.1]</td>\n      <td>34.9 [27.6-42.7]</td>\n      <td>26.7 [21.9-31.8]</td>\n      <td>19.2 [13.2-26.1]</td>\n      <td>34.2 [27.1-41.7]</td>\n      <td>26.0 [21.4-30.9]</td>\n      <td>18.5 [12.7-25.0]</td>\n      <td>33.6 [26.7-40.7]</td>\n      <td>...</td>\n      <td>11.8 [6.5-18.6]</td>\n      <td>7.4 [4.3-11.3]</td>\n      <td>3.1 [1.2-6.2]</td>\n      <td>11.4 [6.2-18.4]</td>\n      <td>7.2 [4.1-11.1]</td>\n      <td>2.9 [1.1-6.1]</td>\n      <td>11.1 [5.8-18.2]</td>\n      <td>6.9 [3.9-10.9]</td>\n      <td>2.8 [1.0-6.0]</td>\n      <td>10.7 [5.5-18.0]</td>\n    </tr>\n    <tr>\n      <th>6</th>\n      <td>Andorra</td>\n      <td>25.6 [20.1-31.3]</td>\n      <td>25.9 [18.0-34.3]</td>\n      <td>25.3 [17.7-33.7]</td>\n      <td>25.4 [20.1-31.0]</td>\n      <td>25.5 [17.8-33.8]</td>\n      <td>25.2 [17.7-33.4]</td>\n      <td>25.2 [20.0-30.7]</td>\n      <td>25.2 [17.6-33.3]</td>\n      <td>25.1 [17.8-33.1]</td>\n      <td>...</td>\n      <td>17.5 [10.9-25.3]</td>\n      <td>14.0 [9.6-19.1]</td>\n      <td>10.7 [5.6-17.4]</td>\n      <td>16.9 [10.4-24.8]</td>\n      <td>13.5 [9.1-18.6]</td>\n      <td>10.2 [5.2-16.9]</td>\n      <td>16.4 [9.8-24.4]</td>\n      <td>12.9 [8.6-18.1]</td>\n      <td>9.7 [4.7-16.3]</td>\n      <td>15.8 [9.2-23.9]</td>\n    </tr>\n    <tr>\n      <th>7</th>\n      <td>Angola</td>\n      <td>8.2 [5.1-12.2]</td>\n      <td>4.0 [1.6-7.9]</td>\n      <td>12.1 [6.8-19.0]</td>\n      <td>7.9 [4.9-11.7]</td>\n      <td>3.8 [1.5-7.3]</td>\n      <td>11.6 [6.5-18.2]</td>\n      <td>7.5 [4.7-11.2]</td>\n      <td>3.6 [1.4-6.9]</td>\n      <td>11.1 [6.2-17.5]</td>\n      <td>...</td>\n      <td>1.6 [0.5-3.7]</td>\n      <td>0.9 [0.3-2.0]</td>\n      <td>0.3 [0.0-0.9]</td>\n      <td>1.5 [0.4-3.6]</td>\n      <td>0.9 [0.3-2.0]</td>\n      <td>0.3 [0.0-0.9]</td>\n      <td>1.4 [0.4-3.5]</td>\n      <td>0.8 [0.3-1.9]</td>\n      <td>0.2 [0.0-0.8]</td>\n      <td>1.4 [0.4-3.4]</td>\n    </tr>\n    <tr>\n      <th>...</th>\n      <td>...</td>\n      <td>...</td>\n      <td>...</td>\n      <td>...</td>\n      <td>...</td>\n      <td>...</td>\n      <td>...</td>\n      <td>...</td>\n      <td>...</td>\n      <td>...</td>\n      <td>...</td>\n      <td>...</td>\n      <td>...</td>\n      <td>...</td>\n      <td>...</td>\n      <td>...</td>\n      <td>...</td>\n      <td>...</td>\n      <td>...</td>\n      <td>...</td>\n      <td>...</td>\n    </tr>\n    <tr>\n      <th>193</th>\n      <td>Venezuela (Bolivarian Republic of)</td>\n      <td>25.6 [21.3-30.2]</td>\n      <td>22.4 [16.4-28.9]</td>\n      <td>28.6 [22.5-35.2]</td>\n      <td>25.2 [21.0-29.5]</td>\n      <td>22.0 [16.2-28.2]</td>\n      <td>28.3 [22.4-34.6]</td>\n      <td>24.8 [20.8-29.0]</td>\n      <td>21.5 [16.0-27.4]</td>\n      <td>27.9 [22.2-34.1]</td>\n      <td>...</td>\n      <td>14.4 [8.4-21.4]</td>\n      <td>10.3 [6.7-14.6]</td>\n      <td>6.6 [3.2-11.7]</td>\n      <td>14.0 [8.0-21.3]</td>\n      <td>9.9 [6.3-14.3]</td>\n      <td>6.3 [2.9-11.5]</td>\n      <td>13.6 [7.5-21.0]</td>\n      <td>9.6 [5.9-14.1]</td>\n      <td>5.9 [2.7-11.2]</td>\n      <td>13.2 [7.1-20.7]</td>\n    </tr>\n    <tr>\n      <th>194</th>\n      <td>Viet Nam</td>\n      <td>2.1 [1.4-3.1]</td>\n      <td>1.6 [0.8-2.8]</td>\n      <td>2.6 [1.5-4.2]</td>\n      <td>2.0 [1.3-2.9]</td>\n      <td>1.5 [0.8-2.5]</td>\n      <td>2.4 [1.4-3.9]</td>\n      <td>1.8 [1.2-2.6]</td>\n      <td>1.3 [0.7-2.3]</td>\n      <td>2.3 [1.3-3.6]</td>\n      <td>...</td>\n      <td>0.2 [0.1-0.6]</td>\n      <td>0.2 [0.1-0.3]</td>\n      <td>0.1 [0.0-0.2]</td>\n      <td>0.2 [0.1-0.5]</td>\n      <td>0.1 [0.1-0.3]</td>\n      <td>0.1 [0.0-0.2]</td>\n      <td>0.2 [0.1-0.5]</td>\n      <td>0.1 [0.0-0.3]</td>\n      <td>0.1 [0.0-0.2]</td>\n      <td>0.2 [0.1-0.5]</td>\n    </tr>\n    <tr>\n      <th>195</th>\n      <td>Yemen</td>\n      <td>17.1 [13.3-21.3]</td>\n      <td>12.0 [7.3-17.6]</td>\n      <td>22.0 [16.0-28.4]</td>\n      <td>16.5 [12.9-20.5]</td>\n      <td>11.4 [7.0-16.7]</td>\n      <td>21.3 [15.6-27.4]</td>\n      <td>15.9 [12.4-19.6]</td>\n      <td>10.8 [6.7-15.7]</td>\n      <td>20.6 [15.2-26.4]</td>\n      <td>...</td>\n      <td>4.8 [2.0-9.3]</td>\n      <td>3.1 [1.5-5.7]</td>\n      <td>1.3 [0.4-3.3]</td>\n      <td>4.5 [1.9-9.2]</td>\n      <td>2.9 [1.4-5.6]</td>\n      <td>1.3 [0.3-3.2]</td>\n      <td>4.3 [1.7-9.0]</td>\n      <td>2.8 [1.3-5.4]</td>\n      <td>1.2 [0.3-3.1]</td>\n      <td>4.2 [1.5-8.9]</td>\n    </tr>\n    <tr>\n      <th>196</th>\n      <td>Zambia</td>\n      <td>8.1 [5.8-10.7]</td>\n      <td>3.6 [1.7-6.5]</td>\n      <td>12.4 [8.5-17.1]</td>\n      <td>7.7 [5.6-10.2]</td>\n      <td>3.4 [1.6-6.1]</td>\n      <td>12.0 [8.2-16.4]</td>\n      <td>7.4 [5.4-9.8]</td>\n      <td>3.2 [1.5-5.7]</td>\n      <td>11.5 [7.9-15.7]</td>\n      <td>...</td>\n      <td>3.0 [1.3-5.6]</td>\n      <td>1.7 [0.8-3.2]</td>\n      <td>0.5 [0.1-1.5]</td>\n      <td>2.9 [1.2-5.4]</td>\n      <td>1.6 [0.7-3.1]</td>\n      <td>0.5 [0.1-1.4]</td>\n      <td>2.7 [1.1-5.3]</td>\n      <td>1.5 [0.7-3.0]</td>\n      <td>0.5 [0.1-1.4]</td>\n      <td>2.5 [1.0-5.1]</td>\n    </tr>\n    <tr>\n      <th>197</th>\n      <td>Zimbabwe</td>\n      <td>15.5 [12.0-19.2]</td>\n      <td>4.7 [2.5-8.0]</td>\n      <td>25.3 [19.1-32.0]</td>\n      <td>15.2 [11.9-18.8]</td>\n      <td>4.5 [2.4-7.6]</td>\n      <td>24.8 [18.9-31.3]</td>\n      <td>14.9 [11.7-18.4]</td>\n      <td>4.4 [2.4-7.3]</td>\n      <td>24.4 [18.8-30.6]</td>\n      <td>...</td>\n      <td>7.7 [3.9-13.1]</td>\n      <td>4.0 [2.1-6.8]</td>\n      <td>0.5 [0.1-1.3]</td>\n      <td>7.4 [3.6-12.7]</td>\n      <td>3.9 [1.9-6.7]</td>\n      <td>0.5 [0.1-1.3]</td>\n      <td>7.0 [3.3-12.4]</td>\n      <td>3.7 [1.7-6.5]</td>\n      <td>0.4 [0.1-1.3]</td>\n      <td>6.7 [3.0-12.2]</td>\n    </tr>\n  </tbody>\n</table>\n<p>195 rows × 127 columns</p>\n</div>"
     },
     "metadata": {},
     "execution_count": 5
    }
   ],
   "source": [
    "# Dropping first three rows\n",
    "rawdata.drop([0,1,2], axis= 0, inplace= True)\n",
    "#   axis= 0, means drop rows; axis= 1, means drop columns\n",
    "#   inplace= True, means make changes to the df stored in the variable\n",
    "#   inplace= False, creates new df with changes\n",
    "#                   original df in variable unchanged\n",
    "rawdata"
   ]
  },
  {
   "cell_type": "code",
   "execution_count": 6,
   "metadata": {},
   "outputs": [
    {
     "output_type": "execute_result",
     "data": {
      "text/plain": [
       "                             Unnamed: 0            2016.1            2016.2  \\\n",
       "3                           Afghanistan     3.2 [1.3-6.4]    7.6 [4.3-12.4]   \n",
       "4                               Albania  21.6 [14.8-29.0]  21.8 [15.3-28.9]   \n",
       "5                               Algeria  19.9 [13.6-27.1]  34.9 [27.6-42.7]   \n",
       "6                               Andorra  25.9 [18.0-34.3]  25.3 [17.7-33.7]   \n",
       "7                                Angola     4.0 [1.6-7.9]   12.1 [6.8-19.0]   \n",
       "..                                  ...               ...               ...   \n",
       "193  Venezuela (Bolivarian Republic of)  22.4 [16.4-28.9]  28.6 [22.5-35.2]   \n",
       "194                            Viet Nam     1.6 [0.8-2.8]     2.6 [1.5-4.2]   \n",
       "195                               Yemen   12.0 [7.3-17.6]  22.0 [16.0-28.4]   \n",
       "196                              Zambia     3.6 [1.7-6.5]   12.4 [8.5-17.1]   \n",
       "197                            Zimbabwe     4.7 [2.5-8.0]  25.3 [19.1-32.0]   \n",
       "\n",
       "               2015.1            2015.2            2014.1            2014.2  \\\n",
       "3       3.0 [1.3-6.0]    7.3 [4.1-11.8]     2.8 [1.2-5.6]    7.0 [4.0-11.3]   \n",
       "4    20.9 [14.4-28.1]  21.3 [15.1-28.1]  20.2 [13.9-27.3]  20.8 [14.9-27.4]   \n",
       "5    19.2 [13.2-26.1]  34.2 [27.1-41.7]  18.5 [12.7-25.0]  33.6 [26.7-40.7]   \n",
       "6    25.5 [17.8-33.8]  25.2 [17.7-33.4]  25.2 [17.6-33.3]  25.1 [17.8-33.1]   \n",
       "7       3.8 [1.5-7.3]   11.6 [6.5-18.2]     3.6 [1.4-6.9]   11.1 [6.2-17.5]   \n",
       "..                ...               ...               ...               ...   \n",
       "193  22.0 [16.2-28.2]  28.3 [22.4-34.6]  21.5 [16.0-27.4]  27.9 [22.2-34.1]   \n",
       "194     1.5 [0.8-2.5]     2.4 [1.4-3.9]     1.3 [0.7-2.3]     2.3 [1.3-3.6]   \n",
       "195   11.4 [7.0-16.7]  21.3 [15.6-27.4]   10.8 [6.7-15.7]  20.6 [15.2-26.4]   \n",
       "196     3.4 [1.6-6.1]   12.0 [8.2-16.4]     3.2 [1.5-5.7]   11.5 [7.9-15.7]   \n",
       "197     4.5 [2.4-7.6]  24.8 [18.9-31.3]     4.4 [2.4-7.3]  24.4 [18.8-30.6]   \n",
       "\n",
       "               2013.1            2013.2            2012.1  ...  \\\n",
       "3       2.7 [1.1-5.3]    6.6 [3.8-10.7]     2.5 [1.1-5.0]  ...   \n",
       "4    19.5 [13.4-26.3]  20.4 [14.6-26.7]  18.8 [13.0-25.4]  ...   \n",
       "5    17.8 [12.3-24.1]  32.9 [26.4-39.8]  17.1 [11.9-23.2]  ...   \n",
       "6    24.8 [17.5-32.7]  25.1 [17.8-32.8]  24.5 [17.4-32.3]  ...   \n",
       "7       3.3 [1.3-6.4]   10.6 [6.0-16.7]     3.1 [1.2-6.1]  ...   \n",
       "..                ...               ...               ...  ...   \n",
       "193  21.1 [15.8-26.8]  27.6 [22.0-33.5]  20.7 [15.5-26.2]  ...   \n",
       "194     1.2 [0.7-2.0]     2.1 [1.3-3.3]     1.1 [0.6-1.8]  ...   \n",
       "195   10.3 [6.4-14.9]  19.9 [14.7-25.5]    9.7 [6.1-14.0]  ...   \n",
       "196     3.0 [1.5-5.4]   11.1 [7.6-15.0]     2.9 [1.4-5.1]  ...   \n",
       "197     4.2 [2.3-6.9]  23.9 [18.5-30.0]     4.0 [2.2-6.6]  ...   \n",
       "\n",
       "              1979.1            1979.2           1978.1            1978.2  \\\n",
       "3      0.3 [0.1-0.8]     1.0 [0.3-2.3]    0.2 [0.1-0.7]     0.9 [0.3-2.2]   \n",
       "4      5.2 [2.3-9.6]    9.3 [4.8-15.5]    5.0 [2.1-9.4]    9.1 [4.6-15.5]   \n",
       "5      3.4 [1.4-6.6]   12.2 [6.9-18.9]    3.2 [1.3-6.4]   11.8 [6.5-18.6]   \n",
       "6    11.8 [6.4-18.4]  18.0 [11.4-25.7]  11.2 [6.0-18.0]  17.5 [10.9-25.3]   \n",
       "7      0.3 [0.1-1.0]     1.7 [0.5-3.8]    0.3 [0.1-0.9]     1.6 [0.5-3.7]   \n",
       "..               ...               ...              ...               ...   \n",
       "193   7.2 [3.7-12.2]   14.8 [8.9-21.7]   6.9 [3.5-11.9]   14.4 [8.4-21.4]   \n",
       "194    0.1 [0.0-0.2]     0.3 [0.1-0.6]    0.1 [0.0-0.2]     0.2 [0.1-0.6]   \n",
       "195    1.5 [0.5-3.5]     5.0 [2.2-9.5]    1.4 [0.4-3.4]     4.8 [2.0-9.3]   \n",
       "196    0.6 [0.2-1.6]     3.2 [1.5-5.8]    0.6 [0.2-1.5]     3.0 [1.3-5.6]   \n",
       "197    0.6 [0.2-1.4]    8.1 [4.3-13.4]    0.5 [0.1-1.4]    7.7 [3.9-13.1]   \n",
       "\n",
       "              1977.1            1977.2           1976.1           1976.2  \\\n",
       "3      0.2 [0.0-0.7]     0.9 [0.3-2.1]    0.2 [0.0-0.7]    0.8 [0.2-2.0]   \n",
       "4      4.8 [2.0-9.3]    8.9 [4.3-15.4]    4.6 [1.8-9.2]   8.8 [4.1-15.4]   \n",
       "5      3.1 [1.2-6.2]   11.4 [6.2-18.4]    2.9 [1.1-6.1]  11.1 [5.8-18.2]   \n",
       "6    10.7 [5.6-17.4]  16.9 [10.4-24.8]  10.2 [5.2-16.9]  16.4 [9.8-24.4]   \n",
       "7      0.3 [0.0-0.9]     1.5 [0.4-3.6]    0.3 [0.0-0.9]    1.4 [0.4-3.5]   \n",
       "..               ...               ...              ...              ...   \n",
       "193   6.6 [3.2-11.7]   14.0 [8.0-21.3]   6.3 [2.9-11.5]  13.6 [7.5-21.0]   \n",
       "194    0.1 [0.0-0.2]     0.2 [0.1-0.5]    0.1 [0.0-0.2]    0.2 [0.1-0.5]   \n",
       "195    1.3 [0.4-3.3]     4.5 [1.9-9.2]    1.3 [0.3-3.2]    4.3 [1.7-9.0]   \n",
       "196    0.5 [0.1-1.5]     2.9 [1.2-5.4]    0.5 [0.1-1.4]    2.7 [1.1-5.3]   \n",
       "197    0.5 [0.1-1.3]    7.4 [3.6-12.7]    0.5 [0.1-1.3]   7.0 [3.3-12.4]   \n",
       "\n",
       "             1975.1           1975.2  \n",
       "3     0.2 [0.0-0.6]    0.8 [0.2-2.0]  \n",
       "4     4.4 [1.7-9.2]   8.6 [3.9-15.4]  \n",
       "5     2.8 [1.0-6.0]  10.7 [5.5-18.0]  \n",
       "6    9.7 [4.7-16.3]  15.8 [9.2-23.9]  \n",
       "7     0.2 [0.0-0.8]    1.4 [0.4-3.4]  \n",
       "..              ...              ...  \n",
       "193  5.9 [2.7-11.2]  13.2 [7.1-20.7]  \n",
       "194   0.1 [0.0-0.2]    0.2 [0.1-0.5]  \n",
       "195   1.2 [0.3-3.1]    4.2 [1.5-8.9]  \n",
       "196   0.5 [0.1-1.4]    2.5 [1.0-5.1]  \n",
       "197   0.4 [0.1-1.3]   6.7 [3.0-12.2]  \n",
       "\n",
       "[195 rows x 85 columns]"
      ],
      "text/html": "<div>\n<style scoped>\n    .dataframe tbody tr th:only-of-type {\n        vertical-align: middle;\n    }\n\n    .dataframe tbody tr th {\n        vertical-align: top;\n    }\n\n    .dataframe thead th {\n        text-align: right;\n    }\n</style>\n<table border=\"1\" class=\"dataframe\">\n  <thead>\n    <tr style=\"text-align: right;\">\n      <th></th>\n      <th>Unnamed: 0</th>\n      <th>2016.1</th>\n      <th>2016.2</th>\n      <th>2015.1</th>\n      <th>2015.2</th>\n      <th>2014.1</th>\n      <th>2014.2</th>\n      <th>2013.1</th>\n      <th>2013.2</th>\n      <th>2012.1</th>\n      <th>...</th>\n      <th>1979.1</th>\n      <th>1979.2</th>\n      <th>1978.1</th>\n      <th>1978.2</th>\n      <th>1977.1</th>\n      <th>1977.2</th>\n      <th>1976.1</th>\n      <th>1976.2</th>\n      <th>1975.1</th>\n      <th>1975.2</th>\n    </tr>\n  </thead>\n  <tbody>\n    <tr>\n      <th>3</th>\n      <td>Afghanistan</td>\n      <td>3.2 [1.3-6.4]</td>\n      <td>7.6 [4.3-12.4]</td>\n      <td>3.0 [1.3-6.0]</td>\n      <td>7.3 [4.1-11.8]</td>\n      <td>2.8 [1.2-5.6]</td>\n      <td>7.0 [4.0-11.3]</td>\n      <td>2.7 [1.1-5.3]</td>\n      <td>6.6 [3.8-10.7]</td>\n      <td>2.5 [1.1-5.0]</td>\n      <td>...</td>\n      <td>0.3 [0.1-0.8]</td>\n      <td>1.0 [0.3-2.3]</td>\n      <td>0.2 [0.1-0.7]</td>\n      <td>0.9 [0.3-2.2]</td>\n      <td>0.2 [0.0-0.7]</td>\n      <td>0.9 [0.3-2.1]</td>\n      <td>0.2 [0.0-0.7]</td>\n      <td>0.8 [0.2-2.0]</td>\n      <td>0.2 [0.0-0.6]</td>\n      <td>0.8 [0.2-2.0]</td>\n    </tr>\n    <tr>\n      <th>4</th>\n      <td>Albania</td>\n      <td>21.6 [14.8-29.0]</td>\n      <td>21.8 [15.3-28.9]</td>\n      <td>20.9 [14.4-28.1]</td>\n      <td>21.3 [15.1-28.1]</td>\n      <td>20.2 [13.9-27.3]</td>\n      <td>20.8 [14.9-27.4]</td>\n      <td>19.5 [13.4-26.3]</td>\n      <td>20.4 [14.6-26.7]</td>\n      <td>18.8 [13.0-25.4]</td>\n      <td>...</td>\n      <td>5.2 [2.3-9.6]</td>\n      <td>9.3 [4.8-15.5]</td>\n      <td>5.0 [2.1-9.4]</td>\n      <td>9.1 [4.6-15.5]</td>\n      <td>4.8 [2.0-9.3]</td>\n      <td>8.9 [4.3-15.4]</td>\n      <td>4.6 [1.8-9.2]</td>\n      <td>8.8 [4.1-15.4]</td>\n      <td>4.4 [1.7-9.2]</td>\n      <td>8.6 [3.9-15.4]</td>\n    </tr>\n    <tr>\n      <th>5</th>\n      <td>Algeria</td>\n      <td>19.9 [13.6-27.1]</td>\n      <td>34.9 [27.6-42.7]</td>\n      <td>19.2 [13.2-26.1]</td>\n      <td>34.2 [27.1-41.7]</td>\n      <td>18.5 [12.7-25.0]</td>\n      <td>33.6 [26.7-40.7]</td>\n      <td>17.8 [12.3-24.1]</td>\n      <td>32.9 [26.4-39.8]</td>\n      <td>17.1 [11.9-23.2]</td>\n      <td>...</td>\n      <td>3.4 [1.4-6.6]</td>\n      <td>12.2 [6.9-18.9]</td>\n      <td>3.2 [1.3-6.4]</td>\n      <td>11.8 [6.5-18.6]</td>\n      <td>3.1 [1.2-6.2]</td>\n      <td>11.4 [6.2-18.4]</td>\n      <td>2.9 [1.1-6.1]</td>\n      <td>11.1 [5.8-18.2]</td>\n      <td>2.8 [1.0-6.0]</td>\n      <td>10.7 [5.5-18.0]</td>\n    </tr>\n    <tr>\n      <th>6</th>\n      <td>Andorra</td>\n      <td>25.9 [18.0-34.3]</td>\n      <td>25.3 [17.7-33.7]</td>\n      <td>25.5 [17.8-33.8]</td>\n      <td>25.2 [17.7-33.4]</td>\n      <td>25.2 [17.6-33.3]</td>\n      <td>25.1 [17.8-33.1]</td>\n      <td>24.8 [17.5-32.7]</td>\n      <td>25.1 [17.8-32.8]</td>\n      <td>24.5 [17.4-32.3]</td>\n      <td>...</td>\n      <td>11.8 [6.4-18.4]</td>\n      <td>18.0 [11.4-25.7]</td>\n      <td>11.2 [6.0-18.0]</td>\n      <td>17.5 [10.9-25.3]</td>\n      <td>10.7 [5.6-17.4]</td>\n      <td>16.9 [10.4-24.8]</td>\n      <td>10.2 [5.2-16.9]</td>\n      <td>16.4 [9.8-24.4]</td>\n      <td>9.7 [4.7-16.3]</td>\n      <td>15.8 [9.2-23.9]</td>\n    </tr>\n    <tr>\n      <th>7</th>\n      <td>Angola</td>\n      <td>4.0 [1.6-7.9]</td>\n      <td>12.1 [6.8-19.0]</td>\n      <td>3.8 [1.5-7.3]</td>\n      <td>11.6 [6.5-18.2]</td>\n      <td>3.6 [1.4-6.9]</td>\n      <td>11.1 [6.2-17.5]</td>\n      <td>3.3 [1.3-6.4]</td>\n      <td>10.6 [6.0-16.7]</td>\n      <td>3.1 [1.2-6.1]</td>\n      <td>...</td>\n      <td>0.3 [0.1-1.0]</td>\n      <td>1.7 [0.5-3.8]</td>\n      <td>0.3 [0.1-0.9]</td>\n      <td>1.6 [0.5-3.7]</td>\n      <td>0.3 [0.0-0.9]</td>\n      <td>1.5 [0.4-3.6]</td>\n      <td>0.3 [0.0-0.9]</td>\n      <td>1.4 [0.4-3.5]</td>\n      <td>0.2 [0.0-0.8]</td>\n      <td>1.4 [0.4-3.4]</td>\n    </tr>\n    <tr>\n      <th>...</th>\n      <td>...</td>\n      <td>...</td>\n      <td>...</td>\n      <td>...</td>\n      <td>...</td>\n      <td>...</td>\n      <td>...</td>\n      <td>...</td>\n      <td>...</td>\n      <td>...</td>\n      <td>...</td>\n      <td>...</td>\n      <td>...</td>\n      <td>...</td>\n      <td>...</td>\n      <td>...</td>\n      <td>...</td>\n      <td>...</td>\n      <td>...</td>\n      <td>...</td>\n      <td>...</td>\n    </tr>\n    <tr>\n      <th>193</th>\n      <td>Venezuela (Bolivarian Republic of)</td>\n      <td>22.4 [16.4-28.9]</td>\n      <td>28.6 [22.5-35.2]</td>\n      <td>22.0 [16.2-28.2]</td>\n      <td>28.3 [22.4-34.6]</td>\n      <td>21.5 [16.0-27.4]</td>\n      <td>27.9 [22.2-34.1]</td>\n      <td>21.1 [15.8-26.8]</td>\n      <td>27.6 [22.0-33.5]</td>\n      <td>20.7 [15.5-26.2]</td>\n      <td>...</td>\n      <td>7.2 [3.7-12.2]</td>\n      <td>14.8 [8.9-21.7]</td>\n      <td>6.9 [3.5-11.9]</td>\n      <td>14.4 [8.4-21.4]</td>\n      <td>6.6 [3.2-11.7]</td>\n      <td>14.0 [8.0-21.3]</td>\n      <td>6.3 [2.9-11.5]</td>\n      <td>13.6 [7.5-21.0]</td>\n      <td>5.9 [2.7-11.2]</td>\n      <td>13.2 [7.1-20.7]</td>\n    </tr>\n    <tr>\n      <th>194</th>\n      <td>Viet Nam</td>\n      <td>1.6 [0.8-2.8]</td>\n      <td>2.6 [1.5-4.2]</td>\n      <td>1.5 [0.8-2.5]</td>\n      <td>2.4 [1.4-3.9]</td>\n      <td>1.3 [0.7-2.3]</td>\n      <td>2.3 [1.3-3.6]</td>\n      <td>1.2 [0.7-2.0]</td>\n      <td>2.1 [1.3-3.3]</td>\n      <td>1.1 [0.6-1.8]</td>\n      <td>...</td>\n      <td>0.1 [0.0-0.2]</td>\n      <td>0.3 [0.1-0.6]</td>\n      <td>0.1 [0.0-0.2]</td>\n      <td>0.2 [0.1-0.6]</td>\n      <td>0.1 [0.0-0.2]</td>\n      <td>0.2 [0.1-0.5]</td>\n      <td>0.1 [0.0-0.2]</td>\n      <td>0.2 [0.1-0.5]</td>\n      <td>0.1 [0.0-0.2]</td>\n      <td>0.2 [0.1-0.5]</td>\n    </tr>\n    <tr>\n      <th>195</th>\n      <td>Yemen</td>\n      <td>12.0 [7.3-17.6]</td>\n      <td>22.0 [16.0-28.4]</td>\n      <td>11.4 [7.0-16.7]</td>\n      <td>21.3 [15.6-27.4]</td>\n      <td>10.8 [6.7-15.7]</td>\n      <td>20.6 [15.2-26.4]</td>\n      <td>10.3 [6.4-14.9]</td>\n      <td>19.9 [14.7-25.5]</td>\n      <td>9.7 [6.1-14.0]</td>\n      <td>...</td>\n      <td>1.5 [0.5-3.5]</td>\n      <td>5.0 [2.2-9.5]</td>\n      <td>1.4 [0.4-3.4]</td>\n      <td>4.8 [2.0-9.3]</td>\n      <td>1.3 [0.4-3.3]</td>\n      <td>4.5 [1.9-9.2]</td>\n      <td>1.3 [0.3-3.2]</td>\n      <td>4.3 [1.7-9.0]</td>\n      <td>1.2 [0.3-3.1]</td>\n      <td>4.2 [1.5-8.9]</td>\n    </tr>\n    <tr>\n      <th>196</th>\n      <td>Zambia</td>\n      <td>3.6 [1.7-6.5]</td>\n      <td>12.4 [8.5-17.1]</td>\n      <td>3.4 [1.6-6.1]</td>\n      <td>12.0 [8.2-16.4]</td>\n      <td>3.2 [1.5-5.7]</td>\n      <td>11.5 [7.9-15.7]</td>\n      <td>3.0 [1.5-5.4]</td>\n      <td>11.1 [7.6-15.0]</td>\n      <td>2.9 [1.4-5.1]</td>\n      <td>...</td>\n      <td>0.6 [0.2-1.6]</td>\n      <td>3.2 [1.5-5.8]</td>\n      <td>0.6 [0.2-1.5]</td>\n      <td>3.0 [1.3-5.6]</td>\n      <td>0.5 [0.1-1.5]</td>\n      <td>2.9 [1.2-5.4]</td>\n      <td>0.5 [0.1-1.4]</td>\n      <td>2.7 [1.1-5.3]</td>\n      <td>0.5 [0.1-1.4]</td>\n      <td>2.5 [1.0-5.1]</td>\n    </tr>\n    <tr>\n      <th>197</th>\n      <td>Zimbabwe</td>\n      <td>4.7 [2.5-8.0]</td>\n      <td>25.3 [19.1-32.0]</td>\n      <td>4.5 [2.4-7.6]</td>\n      <td>24.8 [18.9-31.3]</td>\n      <td>4.4 [2.4-7.3]</td>\n      <td>24.4 [18.8-30.6]</td>\n      <td>4.2 [2.3-6.9]</td>\n      <td>23.9 [18.5-30.0]</td>\n      <td>4.0 [2.2-6.6]</td>\n      <td>...</td>\n      <td>0.6 [0.2-1.4]</td>\n      <td>8.1 [4.3-13.4]</td>\n      <td>0.5 [0.1-1.4]</td>\n      <td>7.7 [3.9-13.1]</td>\n      <td>0.5 [0.1-1.3]</td>\n      <td>7.4 [3.6-12.7]</td>\n      <td>0.5 [0.1-1.3]</td>\n      <td>7.0 [3.3-12.4]</td>\n      <td>0.4 [0.1-1.3]</td>\n      <td>6.7 [3.0-12.2]</td>\n    </tr>\n  </tbody>\n</table>\n<p>195 rows × 85 columns</p>\n</div>"
     },
     "metadata": {},
     "execution_count": 6
    }
   ],
   "source": [
    "# Dropping year columns without .1 and .2\n",
    "rawdata.drop(rawdata.columns[1::3], axis= 1, inplace= True)\n",
    "#Starting with the first column till the end, drop every 3rd column.\n",
    "#   e.g. drop, 1, 2, drop, 1, 2, drop,...\n",
    "rawdata"
   ]
  },
  {
   "cell_type": "code",
   "execution_count": 7,
   "metadata": {},
   "outputs": [
    {
     "output_type": "execute_result",
     "data": {
      "text/plain": [
       "                               Unnamed: 0 variable             value\n",
       "0                             Afghanistan   2016.1     3.2 [1.3-6.4]\n",
       "1                                 Albania   2016.1  21.6 [14.8-29.0]\n",
       "2                                 Algeria   2016.1  19.9 [13.6-27.1]\n",
       "3                                 Andorra   2016.1  25.9 [18.0-34.3]\n",
       "4                                  Angola   2016.1     4.0 [1.6-7.9]\n",
       "...                                   ...      ...               ...\n",
       "16375  Venezuela (Bolivarian Republic of)   1975.2   13.2 [7.1-20.7]\n",
       "16376                            Viet Nam   1975.2     0.2 [0.1-0.5]\n",
       "16377                               Yemen   1975.2     4.2 [1.5-8.9]\n",
       "16378                              Zambia   1975.2     2.5 [1.0-5.1]\n",
       "16379                            Zimbabwe   1975.2    6.7 [3.0-12.2]\n",
       "\n",
       "[16380 rows x 3 columns]"
      ],
      "text/html": "<div>\n<style scoped>\n    .dataframe tbody tr th:only-of-type {\n        vertical-align: middle;\n    }\n\n    .dataframe tbody tr th {\n        vertical-align: top;\n    }\n\n    .dataframe thead th {\n        text-align: right;\n    }\n</style>\n<table border=\"1\" class=\"dataframe\">\n  <thead>\n    <tr style=\"text-align: right;\">\n      <th></th>\n      <th>Unnamed: 0</th>\n      <th>variable</th>\n      <th>value</th>\n    </tr>\n  </thead>\n  <tbody>\n    <tr>\n      <th>0</th>\n      <td>Afghanistan</td>\n      <td>2016.1</td>\n      <td>3.2 [1.3-6.4]</td>\n    </tr>\n    <tr>\n      <th>1</th>\n      <td>Albania</td>\n      <td>2016.1</td>\n      <td>21.6 [14.8-29.0]</td>\n    </tr>\n    <tr>\n      <th>2</th>\n      <td>Algeria</td>\n      <td>2016.1</td>\n      <td>19.9 [13.6-27.1]</td>\n    </tr>\n    <tr>\n      <th>3</th>\n      <td>Andorra</td>\n      <td>2016.1</td>\n      <td>25.9 [18.0-34.3]</td>\n    </tr>\n    <tr>\n      <th>4</th>\n      <td>Angola</td>\n      <td>2016.1</td>\n      <td>4.0 [1.6-7.9]</td>\n    </tr>\n    <tr>\n      <th>...</th>\n      <td>...</td>\n      <td>...</td>\n      <td>...</td>\n    </tr>\n    <tr>\n      <th>16375</th>\n      <td>Venezuela (Bolivarian Republic of)</td>\n      <td>1975.2</td>\n      <td>13.2 [7.1-20.7]</td>\n    </tr>\n    <tr>\n      <th>16376</th>\n      <td>Viet Nam</td>\n      <td>1975.2</td>\n      <td>0.2 [0.1-0.5]</td>\n    </tr>\n    <tr>\n      <th>16377</th>\n      <td>Yemen</td>\n      <td>1975.2</td>\n      <td>4.2 [1.5-8.9]</td>\n    </tr>\n    <tr>\n      <th>16378</th>\n      <td>Zambia</td>\n      <td>1975.2</td>\n      <td>2.5 [1.0-5.1]</td>\n    </tr>\n    <tr>\n      <th>16379</th>\n      <td>Zimbabwe</td>\n      <td>1975.2</td>\n      <td>6.7 [3.0-12.2]</td>\n    </tr>\n  </tbody>\n</table>\n<p>16380 rows × 3 columns</p>\n</div>"
     },
     "metadata": {},
     "execution_count": 7
    }
   ],
   "source": [
    "# Creating a table with country, year, obesity_rate\n",
    "rawdata = rawdata.melt(id_vars=['Unnamed: 0'])\n",
    "'''\n",
    "Turn all column names into row entries under a new column name called 'variable'.  The column in 'id_vars' will remain unaffected.  Entries associated with column names --> row entries now stored under new column called 'value'.\n",
    "\n",
    "Can rename default column names 'variable' and 'value' using optional arguments 'var_name=' and 'value_name=' respectively.\n",
    "'''\n",
    "# https://pandas.pydata.org/docs/reference/api/pandas.DataFrame.melt.html\n",
    "rawdata"
   ]
  },
  {
   "cell_type": "code",
   "execution_count": 8,
   "metadata": {},
   "outputs": [
    {
     "output_type": "execute_result",
     "data": {
      "text/plain": [
       "                               Unnamed: 0 variable             value  year  \\\n",
       "0                             Afghanistan   2016.1     3.2 [1.3-6.4]  2016   \n",
       "1                                 Albania   2016.1  21.6 [14.8-29.0]  2016   \n",
       "2                                 Algeria   2016.1  19.9 [13.6-27.1]  2016   \n",
       "3                                 Andorra   2016.1  25.9 [18.0-34.3]  2016   \n",
       "4                                  Angola   2016.1     4.0 [1.6-7.9]  2016   \n",
       "...                                   ...      ...               ...   ...   \n",
       "16375  Venezuela (Bolivarian Republic of)   1975.2   13.2 [7.1-20.7]  1975   \n",
       "16376                            Viet Nam   1975.2     0.2 [0.1-0.5]  1975   \n",
       "16377                               Yemen   1975.2     4.2 [1.5-8.9]  1975   \n",
       "16378                              Zambia   1975.2     2.5 [1.0-5.1]  1975   \n",
       "16379                            Zimbabwe   1975.2    6.7 [3.0-12.2]  1975   \n",
       "\n",
       "      gender  \n",
       "0          1  \n",
       "1          1  \n",
       "2          1  \n",
       "3          1  \n",
       "4          1  \n",
       "...      ...  \n",
       "16375      2  \n",
       "16376      2  \n",
       "16377      2  \n",
       "16378      2  \n",
       "16379      2  \n",
       "\n",
       "[16380 rows x 5 columns]"
      ],
      "text/html": "<div>\n<style scoped>\n    .dataframe tbody tr th:only-of-type {\n        vertical-align: middle;\n    }\n\n    .dataframe tbody tr th {\n        vertical-align: top;\n    }\n\n    .dataframe thead th {\n        text-align: right;\n    }\n</style>\n<table border=\"1\" class=\"dataframe\">\n  <thead>\n    <tr style=\"text-align: right;\">\n      <th></th>\n      <th>Unnamed: 0</th>\n      <th>variable</th>\n      <th>value</th>\n      <th>year</th>\n      <th>gender</th>\n    </tr>\n  </thead>\n  <tbody>\n    <tr>\n      <th>0</th>\n      <td>Afghanistan</td>\n      <td>2016.1</td>\n      <td>3.2 [1.3-6.4]</td>\n      <td>2016</td>\n      <td>1</td>\n    </tr>\n    <tr>\n      <th>1</th>\n      <td>Albania</td>\n      <td>2016.1</td>\n      <td>21.6 [14.8-29.0]</td>\n      <td>2016</td>\n      <td>1</td>\n    </tr>\n    <tr>\n      <th>2</th>\n      <td>Algeria</td>\n      <td>2016.1</td>\n      <td>19.9 [13.6-27.1]</td>\n      <td>2016</td>\n      <td>1</td>\n    </tr>\n    <tr>\n      <th>3</th>\n      <td>Andorra</td>\n      <td>2016.1</td>\n      <td>25.9 [18.0-34.3]</td>\n      <td>2016</td>\n      <td>1</td>\n    </tr>\n    <tr>\n      <th>4</th>\n      <td>Angola</td>\n      <td>2016.1</td>\n      <td>4.0 [1.6-7.9]</td>\n      <td>2016</td>\n      <td>1</td>\n    </tr>\n    <tr>\n      <th>...</th>\n      <td>...</td>\n      <td>...</td>\n      <td>...</td>\n      <td>...</td>\n      <td>...</td>\n    </tr>\n    <tr>\n      <th>16375</th>\n      <td>Venezuela (Bolivarian Republic of)</td>\n      <td>1975.2</td>\n      <td>13.2 [7.1-20.7]</td>\n      <td>1975</td>\n      <td>2</td>\n    </tr>\n    <tr>\n      <th>16376</th>\n      <td>Viet Nam</td>\n      <td>1975.2</td>\n      <td>0.2 [0.1-0.5]</td>\n      <td>1975</td>\n      <td>2</td>\n    </tr>\n    <tr>\n      <th>16377</th>\n      <td>Yemen</td>\n      <td>1975.2</td>\n      <td>4.2 [1.5-8.9]</td>\n      <td>1975</td>\n      <td>2</td>\n    </tr>\n    <tr>\n      <th>16378</th>\n      <td>Zambia</td>\n      <td>1975.2</td>\n      <td>2.5 [1.0-5.1]</td>\n      <td>1975</td>\n      <td>2</td>\n    </tr>\n    <tr>\n      <th>16379</th>\n      <td>Zimbabwe</td>\n      <td>1975.2</td>\n      <td>6.7 [3.0-12.2]</td>\n      <td>1975</td>\n      <td>2</td>\n    </tr>\n  </tbody>\n</table>\n<p>16380 rows × 5 columns</p>\n</div>"
     },
     "metadata": {},
     "execution_count": 8
    }
   ],
   "source": [
    "# Creating two new columns in dataframe.\n",
    "# Storing the separated string into the new columns.\n",
    "rawdata[['year','gender']] = rawdata.variable.str.split(pat='.', expand= True)\n",
    "'''\n",
    "pat= specifies the piece of str to split on.  If this optional arg     left out, function splits on white spaces.\n",
    "expand= True, stores the separated str into two columns.  If False, both pieces of separated str stored in a list.\n",
    "'''\n",
    "# https://pandas.pydata.org/docs/reference/api/pandas.Series.str.split.html\n",
    "rawdata"
   ]
  },
  {
   "cell_type": "code",
   "execution_count": 9,
   "metadata": {},
   "outputs": [
    {
     "output_type": "execute_result",
     "data": {
      "text/plain": [
       "                               Unnamed: 0             value  year gender\n",
       "0                             Afghanistan     3.2 [1.3-6.4]  2016      1\n",
       "1                                 Albania  21.6 [14.8-29.0]  2016      1\n",
       "2                                 Algeria  19.9 [13.6-27.1]  2016      1\n",
       "3                                 Andorra  25.9 [18.0-34.3]  2016      1\n",
       "4                                  Angola     4.0 [1.6-7.9]  2016      1\n",
       "...                                   ...               ...   ...    ...\n",
       "16375  Venezuela (Bolivarian Republic of)   13.2 [7.1-20.7]  1975      2\n",
       "16376                            Viet Nam     0.2 [0.1-0.5]  1975      2\n",
       "16377                               Yemen     4.2 [1.5-8.9]  1975      2\n",
       "16378                              Zambia     2.5 [1.0-5.1]  1975      2\n",
       "16379                            Zimbabwe    6.7 [3.0-12.2]  1975      2\n",
       "\n",
       "[16380 rows x 4 columns]"
      ],
      "text/html": "<div>\n<style scoped>\n    .dataframe tbody tr th:only-of-type {\n        vertical-align: middle;\n    }\n\n    .dataframe tbody tr th {\n        vertical-align: top;\n    }\n\n    .dataframe thead th {\n        text-align: right;\n    }\n</style>\n<table border=\"1\" class=\"dataframe\">\n  <thead>\n    <tr style=\"text-align: right;\">\n      <th></th>\n      <th>Unnamed: 0</th>\n      <th>value</th>\n      <th>year</th>\n      <th>gender</th>\n    </tr>\n  </thead>\n  <tbody>\n    <tr>\n      <th>0</th>\n      <td>Afghanistan</td>\n      <td>3.2 [1.3-6.4]</td>\n      <td>2016</td>\n      <td>1</td>\n    </tr>\n    <tr>\n      <th>1</th>\n      <td>Albania</td>\n      <td>21.6 [14.8-29.0]</td>\n      <td>2016</td>\n      <td>1</td>\n    </tr>\n    <tr>\n      <th>2</th>\n      <td>Algeria</td>\n      <td>19.9 [13.6-27.1]</td>\n      <td>2016</td>\n      <td>1</td>\n    </tr>\n    <tr>\n      <th>3</th>\n      <td>Andorra</td>\n      <td>25.9 [18.0-34.3]</td>\n      <td>2016</td>\n      <td>1</td>\n    </tr>\n    <tr>\n      <th>4</th>\n      <td>Angola</td>\n      <td>4.0 [1.6-7.9]</td>\n      <td>2016</td>\n      <td>1</td>\n    </tr>\n    <tr>\n      <th>...</th>\n      <td>...</td>\n      <td>...</td>\n      <td>...</td>\n      <td>...</td>\n    </tr>\n    <tr>\n      <th>16375</th>\n      <td>Venezuela (Bolivarian Republic of)</td>\n      <td>13.2 [7.1-20.7]</td>\n      <td>1975</td>\n      <td>2</td>\n    </tr>\n    <tr>\n      <th>16376</th>\n      <td>Viet Nam</td>\n      <td>0.2 [0.1-0.5]</td>\n      <td>1975</td>\n      <td>2</td>\n    </tr>\n    <tr>\n      <th>16377</th>\n      <td>Yemen</td>\n      <td>4.2 [1.5-8.9]</td>\n      <td>1975</td>\n      <td>2</td>\n    </tr>\n    <tr>\n      <th>16378</th>\n      <td>Zambia</td>\n      <td>2.5 [1.0-5.1]</td>\n      <td>1975</td>\n      <td>2</td>\n    </tr>\n    <tr>\n      <th>16379</th>\n      <td>Zimbabwe</td>\n      <td>6.7 [3.0-12.2]</td>\n      <td>1975</td>\n      <td>2</td>\n    </tr>\n  </tbody>\n</table>\n<p>16380 rows × 4 columns</p>\n</div>"
     },
     "metadata": {},
     "execution_count": 9
    }
   ],
   "source": [
    "# Dropping the 'variable' column.\n",
    "rawdata.drop('variable', axis= 1, inplace= True)\n",
    "rawdata"
   ]
  },
  {
   "cell_type": "code",
   "execution_count": 10,
   "metadata": {},
   "outputs": [
    {
     "output_type": "execute_result",
     "data": {
      "text/plain": [
       "                                  country             value  year gender\n",
       "0                             Afghanistan     3.2 [1.3-6.4]  2016      1\n",
       "1                                 Albania  21.6 [14.8-29.0]  2016      1\n",
       "2                                 Algeria  19.9 [13.6-27.1]  2016      1\n",
       "3                                 Andorra  25.9 [18.0-34.3]  2016      1\n",
       "4                                  Angola     4.0 [1.6-7.9]  2016      1\n",
       "...                                   ...               ...   ...    ...\n",
       "16375  Venezuela (Bolivarian Republic of)   13.2 [7.1-20.7]  1975      2\n",
       "16376                            Viet Nam     0.2 [0.1-0.5]  1975      2\n",
       "16377                               Yemen     4.2 [1.5-8.9]  1975      2\n",
       "16378                              Zambia     2.5 [1.0-5.1]  1975      2\n",
       "16379                            Zimbabwe    6.7 [3.0-12.2]  1975      2\n",
       "\n",
       "[16380 rows x 4 columns]"
      ],
      "text/html": "<div>\n<style scoped>\n    .dataframe tbody tr th:only-of-type {\n        vertical-align: middle;\n    }\n\n    .dataframe tbody tr th {\n        vertical-align: top;\n    }\n\n    .dataframe thead th {\n        text-align: right;\n    }\n</style>\n<table border=\"1\" class=\"dataframe\">\n  <thead>\n    <tr style=\"text-align: right;\">\n      <th></th>\n      <th>country</th>\n      <th>value</th>\n      <th>year</th>\n      <th>gender</th>\n    </tr>\n  </thead>\n  <tbody>\n    <tr>\n      <th>0</th>\n      <td>Afghanistan</td>\n      <td>3.2 [1.3-6.4]</td>\n      <td>2016</td>\n      <td>1</td>\n    </tr>\n    <tr>\n      <th>1</th>\n      <td>Albania</td>\n      <td>21.6 [14.8-29.0]</td>\n      <td>2016</td>\n      <td>1</td>\n    </tr>\n    <tr>\n      <th>2</th>\n      <td>Algeria</td>\n      <td>19.9 [13.6-27.1]</td>\n      <td>2016</td>\n      <td>1</td>\n    </tr>\n    <tr>\n      <th>3</th>\n      <td>Andorra</td>\n      <td>25.9 [18.0-34.3]</td>\n      <td>2016</td>\n      <td>1</td>\n    </tr>\n    <tr>\n      <th>4</th>\n      <td>Angola</td>\n      <td>4.0 [1.6-7.9]</td>\n      <td>2016</td>\n      <td>1</td>\n    </tr>\n    <tr>\n      <th>...</th>\n      <td>...</td>\n      <td>...</td>\n      <td>...</td>\n      <td>...</td>\n    </tr>\n    <tr>\n      <th>16375</th>\n      <td>Venezuela (Bolivarian Republic of)</td>\n      <td>13.2 [7.1-20.7]</td>\n      <td>1975</td>\n      <td>2</td>\n    </tr>\n    <tr>\n      <th>16376</th>\n      <td>Viet Nam</td>\n      <td>0.2 [0.1-0.5]</td>\n      <td>1975</td>\n      <td>2</td>\n    </tr>\n    <tr>\n      <th>16377</th>\n      <td>Yemen</td>\n      <td>4.2 [1.5-8.9]</td>\n      <td>1975</td>\n      <td>2</td>\n    </tr>\n    <tr>\n      <th>16378</th>\n      <td>Zambia</td>\n      <td>2.5 [1.0-5.1]</td>\n      <td>1975</td>\n      <td>2</td>\n    </tr>\n    <tr>\n      <th>16379</th>\n      <td>Zimbabwe</td>\n      <td>6.7 [3.0-12.2]</td>\n      <td>1975</td>\n      <td>2</td>\n    </tr>\n  </tbody>\n</table>\n<p>16380 rows × 4 columns</p>\n</div>"
     },
     "metadata": {},
     "execution_count": 10
    }
   ],
   "source": [
    "# Renaming column 'Unnamed: 0' to 'country'.\n",
    "rawdata.rename(columns={'Unnamed: 0':'country'}, inplace= True)\n",
    "rawdata"
   ]
  },
  {
   "cell_type": "code",
   "execution_count": 11,
   "metadata": {},
   "outputs": [
    {
     "output_type": "execute_result",
     "data": {
      "text/plain": [
       "16    5852\n",
       "13    5634\n",
       "15    2417\n",
       "14    2061\n",
       "7      336\n",
       "27      63\n",
       "29       8\n",
       "31       4\n",
       "28       4\n",
       "30       1\n",
       "Name: value, dtype: int64"
      ]
     },
     "metadata": {},
     "execution_count": 11
    }
   ],
   "source": [
    "'''\n",
    "04/08/2021\n",
    "\n",
    "Data cleaning further down the process revealed that column 'value' where continuous data for obesity(%) is stored also contains 'No data'.\n",
    "\n",
    "Additionally, all entries with 'Sudan (former)' in the country column and year <= 2014 have entries in column 'value' formatted incorrectly. \n",
    "\n",
    "e.g.\n",
    "3.5 [1.3-5.4] 4.5 [3.2-6.1]\n",
    "\n",
    "Solution:\n",
    "1. Drop all columns containing 'No data' in the 'value' column.\n",
    "2. Write a function that applies changes that reformats all 'Sudan (former)', <= 2014 entries correctly.\n",
    "3. Create enoough columns to contain all split entries.\n",
    "'''\n",
    "# Past solutions required manual data inspection to detect abnormalities.\n",
    "'''\n",
    "04/08/2021\n",
    "\n",
    "# Changing max row display to manually inspect data.\n",
    "pd.set_option('display.max_rows', 999)\n",
    "pd.reset_option('display.max_rows')\n",
    "'''\n",
    "# New abnormality detection solution:\n",
    "'''\n",
    "04/14/2021\n",
    "\n",
    "Entries in column 'value' should have a str length around 13 to 16.  Character lengths of 7 and 27 to 30 should let us know abnormalities exist in the data before proceeding with cleaning.\n",
    "'''\n",
    "# Checking unique str lengths in column 'value'.\n",
    "rawdata.value.str.len().value_counts()"
   ]
  },
  {
   "cell_type": "code",
   "execution_count": 12,
   "metadata": {},
   "outputs": [
    {
     "output_type": "execute_result",
     "data": {
      "text/plain": [
       "           country    value  year gender\n",
       "112         Monaco  No data  2016      1\n",
       "149     San Marino  No data  2016      1\n",
       "162    South Sudan  No data  2016      1\n",
       "165          Sudan  No data  2016      1\n",
       "307         Monaco  No data  2016      2\n",
       "...            ...      ...   ...    ...\n",
       "16155        Sudan  No data  1975      1\n",
       "16297       Monaco  No data  1975      2\n",
       "16334   San Marino  No data  1975      2\n",
       "16347  South Sudan  No data  1975      2\n",
       "16350        Sudan  No data  1975      2\n",
       "\n",
       "[336 rows x 4 columns]"
      ],
      "text/html": "<div>\n<style scoped>\n    .dataframe tbody tr th:only-of-type {\n        vertical-align: middle;\n    }\n\n    .dataframe tbody tr th {\n        vertical-align: top;\n    }\n\n    .dataframe thead th {\n        text-align: right;\n    }\n</style>\n<table border=\"1\" class=\"dataframe\">\n  <thead>\n    <tr style=\"text-align: right;\">\n      <th></th>\n      <th>country</th>\n      <th>value</th>\n      <th>year</th>\n      <th>gender</th>\n    </tr>\n  </thead>\n  <tbody>\n    <tr>\n      <th>112</th>\n      <td>Monaco</td>\n      <td>No data</td>\n      <td>2016</td>\n      <td>1</td>\n    </tr>\n    <tr>\n      <th>149</th>\n      <td>San Marino</td>\n      <td>No data</td>\n      <td>2016</td>\n      <td>1</td>\n    </tr>\n    <tr>\n      <th>162</th>\n      <td>South Sudan</td>\n      <td>No data</td>\n      <td>2016</td>\n      <td>1</td>\n    </tr>\n    <tr>\n      <th>165</th>\n      <td>Sudan</td>\n      <td>No data</td>\n      <td>2016</td>\n      <td>1</td>\n    </tr>\n    <tr>\n      <th>307</th>\n      <td>Monaco</td>\n      <td>No data</td>\n      <td>2016</td>\n      <td>2</td>\n    </tr>\n    <tr>\n      <th>...</th>\n      <td>...</td>\n      <td>...</td>\n      <td>...</td>\n      <td>...</td>\n    </tr>\n    <tr>\n      <th>16155</th>\n      <td>Sudan</td>\n      <td>No data</td>\n      <td>1975</td>\n      <td>1</td>\n    </tr>\n    <tr>\n      <th>16297</th>\n      <td>Monaco</td>\n      <td>No data</td>\n      <td>1975</td>\n      <td>2</td>\n    </tr>\n    <tr>\n      <th>16334</th>\n      <td>San Marino</td>\n      <td>No data</td>\n      <td>1975</td>\n      <td>2</td>\n    </tr>\n    <tr>\n      <th>16347</th>\n      <td>South Sudan</td>\n      <td>No data</td>\n      <td>1975</td>\n      <td>2</td>\n    </tr>\n    <tr>\n      <th>16350</th>\n      <td>Sudan</td>\n      <td>No data</td>\n      <td>1975</td>\n      <td>2</td>\n    </tr>\n  </tbody>\n</table>\n<p>336 rows × 4 columns</p>\n</div>"
     },
     "metadata": {},
     "execution_count": 12
    }
   ],
   "source": [
    "# Checking str entries in column 'value' that have a len() of 7.\n",
    "rawdata[(rawdata.value.str.len() == 7)]"
   ]
  },
  {
   "cell_type": "code",
   "execution_count": 13,
   "metadata": {},
   "outputs": [
    {
     "output_type": "execute_result",
     "data": {
      "text/plain": [
       "(16380, 4)"
      ]
     },
     "metadata": {},
     "execution_count": 13
    }
   ],
   "source": [
    "# Checking total # of entries before removing entries with 'No data'.\n",
    "rawdata.shape"
   ]
  },
  {
   "cell_type": "code",
   "execution_count": 14,
   "metadata": {},
   "outputs": [
    {
     "output_type": "execute_result",
     "data": {
      "text/plain": [
       "(16044, 4)"
      ]
     },
     "metadata": {},
     "execution_count": 14
    }
   ],
   "source": [
    "# Total entries with 'No data' removed should equal 16044 entries.\n",
    "rawdata = rawdata[(rawdata.value != 'No data')]\n",
    "rawdata.shape"
   ]
  },
  {
   "cell_type": "code",
   "execution_count": 15,
   "metadata": {},
   "outputs": [
    {
     "output_type": "execute_result",
     "data": {
      "text/plain": [
       "Empty DataFrame\n",
       "Columns: [country, value, year, gender]\n",
       "Index: []"
      ],
      "text/html": "<div>\n<style scoped>\n    .dataframe tbody tr th:only-of-type {\n        vertical-align: middle;\n    }\n\n    .dataframe tbody tr th {\n        vertical-align: top;\n    }\n\n    .dataframe thead th {\n        text-align: right;\n    }\n</style>\n<table border=\"1\" class=\"dataframe\">\n  <thead>\n    <tr style=\"text-align: right;\">\n      <th></th>\n      <th>country</th>\n      <th>value</th>\n      <th>year</th>\n      <th>gender</th>\n    </tr>\n  </thead>\n  <tbody>\n  </tbody>\n</table>\n</div>"
     },
     "metadata": {},
     "execution_count": 15
    }
   ],
   "source": [
    "# Double checking that all 'No data' entries have been removed.\n",
    "rawdata[(rawdata.value == 'No data')]"
   ]
  },
  {
   "cell_type": "code",
   "execution_count": 16,
   "metadata": {},
   "outputs": [
    {
     "output_type": "execute_result",
     "data": {
      "text/plain": [
       "              country                            value  year gender\n",
       "946    Sudan (former)      4.2 [2.1-7.3] 3.5 [1.6-6.2]  2014      1\n",
       "1141   Sudan (former)  11.7 [7.4-17.4] 11.5 [7.4-17.1]  2014      2\n",
       "1336   Sudan (former)      4.0 [2.0-6.8] 3.3 [1.6-5.9]  2013      1\n",
       "1531   Sudan (former)  11.3 [7.2-16.6] 11.1 [7.1-16.5]  2013      2\n",
       "1726   Sudan (former)      3.8 [2.0-6.5] 3.2 [1.5-5.6]  2012      1\n",
       "...               ...                              ...   ...    ...\n",
       "15571  Sudan (former)      2.0 [0.7-4.3] 2.0 [0.7-4.3]  1977      2\n",
       "15766  Sudan (former)      0.7 [0.2-1.9] 0.4 [0.1-1.1]  1976      1\n",
       "15961  Sudan (former)      1.9 [0.6-4.2] 1.9 [0.6-4.2]  1976      2\n",
       "16156  Sudan (former)      0.7 [0.2-1.9] 0.3 [0.1-1.1]  1975      1\n",
       "16351  Sudan (former)      1.7 [0.5-4.1] 1.8 [0.6-4.1]  1975      2\n",
       "\n",
       "[80 rows x 4 columns]"
      ],
      "text/html": "<div>\n<style scoped>\n    .dataframe tbody tr th:only-of-type {\n        vertical-align: middle;\n    }\n\n    .dataframe tbody tr th {\n        vertical-align: top;\n    }\n\n    .dataframe thead th {\n        text-align: right;\n    }\n</style>\n<table border=\"1\" class=\"dataframe\">\n  <thead>\n    <tr style=\"text-align: right;\">\n      <th></th>\n      <th>country</th>\n      <th>value</th>\n      <th>year</th>\n      <th>gender</th>\n    </tr>\n  </thead>\n  <tbody>\n    <tr>\n      <th>946</th>\n      <td>Sudan (former)</td>\n      <td>4.2 [2.1-7.3] 3.5 [1.6-6.2]</td>\n      <td>2014</td>\n      <td>1</td>\n    </tr>\n    <tr>\n      <th>1141</th>\n      <td>Sudan (former)</td>\n      <td>11.7 [7.4-17.4] 11.5 [7.4-17.1]</td>\n      <td>2014</td>\n      <td>2</td>\n    </tr>\n    <tr>\n      <th>1336</th>\n      <td>Sudan (former)</td>\n      <td>4.0 [2.0-6.8] 3.3 [1.6-5.9]</td>\n      <td>2013</td>\n      <td>1</td>\n    </tr>\n    <tr>\n      <th>1531</th>\n      <td>Sudan (former)</td>\n      <td>11.3 [7.2-16.6] 11.1 [7.1-16.5]</td>\n      <td>2013</td>\n      <td>2</td>\n    </tr>\n    <tr>\n      <th>1726</th>\n      <td>Sudan (former)</td>\n      <td>3.8 [2.0-6.5] 3.2 [1.5-5.6]</td>\n      <td>2012</td>\n      <td>1</td>\n    </tr>\n    <tr>\n      <th>...</th>\n      <td>...</td>\n      <td>...</td>\n      <td>...</td>\n      <td>...</td>\n    </tr>\n    <tr>\n      <th>15571</th>\n      <td>Sudan (former)</td>\n      <td>2.0 [0.7-4.3] 2.0 [0.7-4.3]</td>\n      <td>1977</td>\n      <td>2</td>\n    </tr>\n    <tr>\n      <th>15766</th>\n      <td>Sudan (former)</td>\n      <td>0.7 [0.2-1.9] 0.4 [0.1-1.1]</td>\n      <td>1976</td>\n      <td>1</td>\n    </tr>\n    <tr>\n      <th>15961</th>\n      <td>Sudan (former)</td>\n      <td>1.9 [0.6-4.2] 1.9 [0.6-4.2]</td>\n      <td>1976</td>\n      <td>2</td>\n    </tr>\n    <tr>\n      <th>16156</th>\n      <td>Sudan (former)</td>\n      <td>0.7 [0.2-1.9] 0.3 [0.1-1.1]</td>\n      <td>1975</td>\n      <td>1</td>\n    </tr>\n    <tr>\n      <th>16351</th>\n      <td>Sudan (former)</td>\n      <td>1.7 [0.5-4.1] 1.8 [0.6-4.1]</td>\n      <td>1975</td>\n      <td>2</td>\n    </tr>\n  </tbody>\n</table>\n<p>80 rows × 4 columns</p>\n</div>"
     },
     "metadata": {},
     "execution_count": 16
    }
   ],
   "source": [
    "# Checking str entries in column 'value' that have a len() of >= 27.\n",
    "rawdata[(rawdata.value.str.len() >= 27)]"
   ]
  },
  {
   "cell_type": "code",
   "execution_count": 17,
   "metadata": {},
   "outputs": [
    {
     "output_type": "stream",
     "name": "stderr",
     "text": [
      "C:\\Users\\silas\\AppData\\Local\\Programs\\Python\\Python38-32\\lib\\site-packages\\pandas\\core\\frame.py:3065: SettingWithCopyWarning: \nA value is trying to be set on a copy of a slice from a DataFrame.\nTry using .loc[row_indexer,col_indexer] = value instead\n\nSee the caveats in the documentation: https://pandas.pydata.org/pandas-docs/stable/user_guide/indexing.html#returning-a-view-versus-a-copy\n  self[k1] = value[k2]\n"
     ]
    },
    {
     "output_type": "execute_result",
     "data": {
      "text/plain": [
       "                                  country             value  year gender  \\\n",
       "0                             Afghanistan     3.2 [1.3-6.4]  2016      1   \n",
       "1                                 Albania  21.6 [14.8-29.0]  2016      1   \n",
       "2                                 Algeria  19.9 [13.6-27.1]  2016      1   \n",
       "3                                 Andorra  25.9 [18.0-34.3]  2016      1   \n",
       "4                                  Angola     4.0 [1.6-7.9]  2016      1   \n",
       "...                                   ...               ...   ...    ...   \n",
       "16375  Venezuela (Bolivarian Republic of)   13.2 [7.1-20.7]  1975      2   \n",
       "16376                            Viet Nam     0.2 [0.1-0.5]  1975      2   \n",
       "16377                               Yemen     4.2 [1.5-8.9]  1975      2   \n",
       "16378                              Zambia     2.5 [1.0-5.1]  1975      2   \n",
       "16379                            Zimbabwe    6.7 [3.0-12.2]  1975      2   \n",
       "\n",
       "      obesity_rate  lower_upper extra1 extra2  \n",
       "0              3.2    [1.3-6.4]   None   None  \n",
       "1             21.6  [14.8-29.0]   None   None  \n",
       "2             19.9  [13.6-27.1]   None   None  \n",
       "3             25.9  [18.0-34.3]   None   None  \n",
       "4              4.0    [1.6-7.9]   None   None  \n",
       "...            ...          ...    ...    ...  \n",
       "16375         13.2   [7.1-20.7]   None   None  \n",
       "16376          0.2    [0.1-0.5]   None   None  \n",
       "16377          4.2    [1.5-8.9]   None   None  \n",
       "16378          2.5    [1.0-5.1]   None   None  \n",
       "16379          6.7   [3.0-12.2]   None   None  \n",
       "\n",
       "[16044 rows x 8 columns]"
      ],
      "text/html": "<div>\n<style scoped>\n    .dataframe tbody tr th:only-of-type {\n        vertical-align: middle;\n    }\n\n    .dataframe tbody tr th {\n        vertical-align: top;\n    }\n\n    .dataframe thead th {\n        text-align: right;\n    }\n</style>\n<table border=\"1\" class=\"dataframe\">\n  <thead>\n    <tr style=\"text-align: right;\">\n      <th></th>\n      <th>country</th>\n      <th>value</th>\n      <th>year</th>\n      <th>gender</th>\n      <th>obesity_rate</th>\n      <th>lower_upper</th>\n      <th>extra1</th>\n      <th>extra2</th>\n    </tr>\n  </thead>\n  <tbody>\n    <tr>\n      <th>0</th>\n      <td>Afghanistan</td>\n      <td>3.2 [1.3-6.4]</td>\n      <td>2016</td>\n      <td>1</td>\n      <td>3.2</td>\n      <td>[1.3-6.4]</td>\n      <td>None</td>\n      <td>None</td>\n    </tr>\n    <tr>\n      <th>1</th>\n      <td>Albania</td>\n      <td>21.6 [14.8-29.0]</td>\n      <td>2016</td>\n      <td>1</td>\n      <td>21.6</td>\n      <td>[14.8-29.0]</td>\n      <td>None</td>\n      <td>None</td>\n    </tr>\n    <tr>\n      <th>2</th>\n      <td>Algeria</td>\n      <td>19.9 [13.6-27.1]</td>\n      <td>2016</td>\n      <td>1</td>\n      <td>19.9</td>\n      <td>[13.6-27.1]</td>\n      <td>None</td>\n      <td>None</td>\n    </tr>\n    <tr>\n      <th>3</th>\n      <td>Andorra</td>\n      <td>25.9 [18.0-34.3]</td>\n      <td>2016</td>\n      <td>1</td>\n      <td>25.9</td>\n      <td>[18.0-34.3]</td>\n      <td>None</td>\n      <td>None</td>\n    </tr>\n    <tr>\n      <th>4</th>\n      <td>Angola</td>\n      <td>4.0 [1.6-7.9]</td>\n      <td>2016</td>\n      <td>1</td>\n      <td>4.0</td>\n      <td>[1.6-7.9]</td>\n      <td>None</td>\n      <td>None</td>\n    </tr>\n    <tr>\n      <th>...</th>\n      <td>...</td>\n      <td>...</td>\n      <td>...</td>\n      <td>...</td>\n      <td>...</td>\n      <td>...</td>\n      <td>...</td>\n      <td>...</td>\n    </tr>\n    <tr>\n      <th>16375</th>\n      <td>Venezuela (Bolivarian Republic of)</td>\n      <td>13.2 [7.1-20.7]</td>\n      <td>1975</td>\n      <td>2</td>\n      <td>13.2</td>\n      <td>[7.1-20.7]</td>\n      <td>None</td>\n      <td>None</td>\n    </tr>\n    <tr>\n      <th>16376</th>\n      <td>Viet Nam</td>\n      <td>0.2 [0.1-0.5]</td>\n      <td>1975</td>\n      <td>2</td>\n      <td>0.2</td>\n      <td>[0.1-0.5]</td>\n      <td>None</td>\n      <td>None</td>\n    </tr>\n    <tr>\n      <th>16377</th>\n      <td>Yemen</td>\n      <td>4.2 [1.5-8.9]</td>\n      <td>1975</td>\n      <td>2</td>\n      <td>4.2</td>\n      <td>[1.5-8.9]</td>\n      <td>None</td>\n      <td>None</td>\n    </tr>\n    <tr>\n      <th>16378</th>\n      <td>Zambia</td>\n      <td>2.5 [1.0-5.1]</td>\n      <td>1975</td>\n      <td>2</td>\n      <td>2.5</td>\n      <td>[1.0-5.1]</td>\n      <td>None</td>\n      <td>None</td>\n    </tr>\n    <tr>\n      <th>16379</th>\n      <td>Zimbabwe</td>\n      <td>6.7 [3.0-12.2]</td>\n      <td>1975</td>\n      <td>2</td>\n      <td>6.7</td>\n      <td>[3.0-12.2]</td>\n      <td>None</td>\n      <td>None</td>\n    </tr>\n  </tbody>\n</table>\n<p>16044 rows × 8 columns</p>\n</div>"
     },
     "metadata": {},
     "execution_count": 17
    }
   ],
   "source": [
    "# Splitting the 'value' column.\n",
    "# Averages in one column, upper and lower values in their own columns.\n",
    "# Columns 'extra1' and 'extra2' used to contain Sudan (former) entries.\n",
    "rawdata[['obesity_rate', 'lower_upper', 'extra1', 'extra2']] = rawdata.value.str.split(pat=' ', expand=True)\n",
    "'''\n",
    "Optional arg n= limits the # of split outputs.  If get 'Columns must be same length as key' error, probably because multiple outputs when splitting.  Use n=1 to limit to two split outputs only.\n",
    "'''\n",
    "rawdata"
   ]
  },
  {
   "cell_type": "code",
   "execution_count": 18,
   "metadata": {},
   "outputs": [
    {
     "output_type": "stream",
     "name": "stderr",
     "text": [
      "C:\\Users\\silas\\AppData\\Local\\Programs\\Python\\Python38-32\\lib\\site-packages\\pandas\\core\\frame.py:4162: SettingWithCopyWarning: \nA value is trying to be set on a copy of a slice from a DataFrame\n\nSee the caveats in the documentation: https://pandas.pydata.org/pandas-docs/stable/user_guide/indexing.html#returning-a-view-versus-a-copy\n  return super().drop(\n"
     ]
    },
    {
     "output_type": "execute_result",
     "data": {
      "text/plain": [
       "                                  country  year gender obesity_rate  \\\n",
       "0                             Afghanistan  2016      1          3.2   \n",
       "1                                 Albania  2016      1         21.6   \n",
       "2                                 Algeria  2016      1         19.9   \n",
       "3                                 Andorra  2016      1         25.9   \n",
       "4                                  Angola  2016      1          4.0   \n",
       "...                                   ...   ...    ...          ...   \n",
       "16375  Venezuela (Bolivarian Republic of)  1975      2         13.2   \n",
       "16376                            Viet Nam  1975      2          0.2   \n",
       "16377                               Yemen  1975      2          4.2   \n",
       "16378                              Zambia  1975      2          2.5   \n",
       "16379                            Zimbabwe  1975      2          6.7   \n",
       "\n",
       "       lower_upper extra1 extra2  \n",
       "0        [1.3-6.4]   None   None  \n",
       "1      [14.8-29.0]   None   None  \n",
       "2      [13.6-27.1]   None   None  \n",
       "3      [18.0-34.3]   None   None  \n",
       "4        [1.6-7.9]   None   None  \n",
       "...            ...    ...    ...  \n",
       "16375   [7.1-20.7]   None   None  \n",
       "16376    [0.1-0.5]   None   None  \n",
       "16377    [1.5-8.9]   None   None  \n",
       "16378    [1.0-5.1]   None   None  \n",
       "16379   [3.0-12.2]   None   None  \n",
       "\n",
       "[16044 rows x 7 columns]"
      ],
      "text/html": "<div>\n<style scoped>\n    .dataframe tbody tr th:only-of-type {\n        vertical-align: middle;\n    }\n\n    .dataframe tbody tr th {\n        vertical-align: top;\n    }\n\n    .dataframe thead th {\n        text-align: right;\n    }\n</style>\n<table border=\"1\" class=\"dataframe\">\n  <thead>\n    <tr style=\"text-align: right;\">\n      <th></th>\n      <th>country</th>\n      <th>year</th>\n      <th>gender</th>\n      <th>obesity_rate</th>\n      <th>lower_upper</th>\n      <th>extra1</th>\n      <th>extra2</th>\n    </tr>\n  </thead>\n  <tbody>\n    <tr>\n      <th>0</th>\n      <td>Afghanistan</td>\n      <td>2016</td>\n      <td>1</td>\n      <td>3.2</td>\n      <td>[1.3-6.4]</td>\n      <td>None</td>\n      <td>None</td>\n    </tr>\n    <tr>\n      <th>1</th>\n      <td>Albania</td>\n      <td>2016</td>\n      <td>1</td>\n      <td>21.6</td>\n      <td>[14.8-29.0]</td>\n      <td>None</td>\n      <td>None</td>\n    </tr>\n    <tr>\n      <th>2</th>\n      <td>Algeria</td>\n      <td>2016</td>\n      <td>1</td>\n      <td>19.9</td>\n      <td>[13.6-27.1]</td>\n      <td>None</td>\n      <td>None</td>\n    </tr>\n    <tr>\n      <th>3</th>\n      <td>Andorra</td>\n      <td>2016</td>\n      <td>1</td>\n      <td>25.9</td>\n      <td>[18.0-34.3]</td>\n      <td>None</td>\n      <td>None</td>\n    </tr>\n    <tr>\n      <th>4</th>\n      <td>Angola</td>\n      <td>2016</td>\n      <td>1</td>\n      <td>4.0</td>\n      <td>[1.6-7.9]</td>\n      <td>None</td>\n      <td>None</td>\n    </tr>\n    <tr>\n      <th>...</th>\n      <td>...</td>\n      <td>...</td>\n      <td>...</td>\n      <td>...</td>\n      <td>...</td>\n      <td>...</td>\n      <td>...</td>\n    </tr>\n    <tr>\n      <th>16375</th>\n      <td>Venezuela (Bolivarian Republic of)</td>\n      <td>1975</td>\n      <td>2</td>\n      <td>13.2</td>\n      <td>[7.1-20.7]</td>\n      <td>None</td>\n      <td>None</td>\n    </tr>\n    <tr>\n      <th>16376</th>\n      <td>Viet Nam</td>\n      <td>1975</td>\n      <td>2</td>\n      <td>0.2</td>\n      <td>[0.1-0.5]</td>\n      <td>None</td>\n      <td>None</td>\n    </tr>\n    <tr>\n      <th>16377</th>\n      <td>Yemen</td>\n      <td>1975</td>\n      <td>2</td>\n      <td>4.2</td>\n      <td>[1.5-8.9]</td>\n      <td>None</td>\n      <td>None</td>\n    </tr>\n    <tr>\n      <th>16378</th>\n      <td>Zambia</td>\n      <td>1975</td>\n      <td>2</td>\n      <td>2.5</td>\n      <td>[1.0-5.1]</td>\n      <td>None</td>\n      <td>None</td>\n    </tr>\n    <tr>\n      <th>16379</th>\n      <td>Zimbabwe</td>\n      <td>1975</td>\n      <td>2</td>\n      <td>6.7</td>\n      <td>[3.0-12.2]</td>\n      <td>None</td>\n      <td>None</td>\n    </tr>\n  </tbody>\n</table>\n<p>16044 rows × 7 columns</p>\n</div>"
     },
     "metadata": {},
     "execution_count": 18
    }
   ],
   "source": [
    "# Dropping the value column now that its entries have been split.\n",
    "rawdata.drop('value', axis= 1, inplace= True)\n",
    "rawdata"
   ]
  },
  {
   "cell_type": "code",
   "execution_count": 19,
   "metadata": {},
   "outputs": [
    {
     "output_type": "execute_result",
     "data": {
      "text/plain": [
       "              country  year gender obesity_rate lower_upper extra1     extra2\n",
       "166    Sudan (former)  2016      1          3.8   [1.8-7.0]   None       None\n",
       "361    Sudan (former)  2016      2         12.4  [7.9-18.4]   None       None\n",
       "556    Sudan (former)  2015      1          3.6   [1.7-6.6]   None       None\n",
       "751    Sudan (former)  2015      2         12.0  [7.6-17.7]   None       None\n",
       "946    Sudan (former)  2014      1          4.2   [2.1-7.3]    3.5  [1.6-6.2]\n",
       "...               ...   ...    ...          ...         ...    ...        ...\n",
       "15571  Sudan (former)  1977      2          2.0   [0.7-4.3]    2.0  [0.7-4.3]\n",
       "15766  Sudan (former)  1976      1          0.7   [0.2-1.9]    0.4  [0.1-1.1]\n",
       "15961  Sudan (former)  1976      2          1.9   [0.6-4.2]    1.9  [0.6-4.2]\n",
       "16156  Sudan (former)  1975      1          0.7   [0.2-1.9]    0.3  [0.1-1.1]\n",
       "16351  Sudan (former)  1975      2          1.7   [0.5-4.1]    1.8  [0.6-4.1]\n",
       "\n",
       "[84 rows x 7 columns]"
      ],
      "text/html": "<div>\n<style scoped>\n    .dataframe tbody tr th:only-of-type {\n        vertical-align: middle;\n    }\n\n    .dataframe tbody tr th {\n        vertical-align: top;\n    }\n\n    .dataframe thead th {\n        text-align: right;\n    }\n</style>\n<table border=\"1\" class=\"dataframe\">\n  <thead>\n    <tr style=\"text-align: right;\">\n      <th></th>\n      <th>country</th>\n      <th>year</th>\n      <th>gender</th>\n      <th>obesity_rate</th>\n      <th>lower_upper</th>\n      <th>extra1</th>\n      <th>extra2</th>\n    </tr>\n  </thead>\n  <tbody>\n    <tr>\n      <th>166</th>\n      <td>Sudan (former)</td>\n      <td>2016</td>\n      <td>1</td>\n      <td>3.8</td>\n      <td>[1.8-7.0]</td>\n      <td>None</td>\n      <td>None</td>\n    </tr>\n    <tr>\n      <th>361</th>\n      <td>Sudan (former)</td>\n      <td>2016</td>\n      <td>2</td>\n      <td>12.4</td>\n      <td>[7.9-18.4]</td>\n      <td>None</td>\n      <td>None</td>\n    </tr>\n    <tr>\n      <th>556</th>\n      <td>Sudan (former)</td>\n      <td>2015</td>\n      <td>1</td>\n      <td>3.6</td>\n      <td>[1.7-6.6]</td>\n      <td>None</td>\n      <td>None</td>\n    </tr>\n    <tr>\n      <th>751</th>\n      <td>Sudan (former)</td>\n      <td>2015</td>\n      <td>2</td>\n      <td>12.0</td>\n      <td>[7.6-17.7]</td>\n      <td>None</td>\n      <td>None</td>\n    </tr>\n    <tr>\n      <th>946</th>\n      <td>Sudan (former)</td>\n      <td>2014</td>\n      <td>1</td>\n      <td>4.2</td>\n      <td>[2.1-7.3]</td>\n      <td>3.5</td>\n      <td>[1.6-6.2]</td>\n    </tr>\n    <tr>\n      <th>...</th>\n      <td>...</td>\n      <td>...</td>\n      <td>...</td>\n      <td>...</td>\n      <td>...</td>\n      <td>...</td>\n      <td>...</td>\n    </tr>\n    <tr>\n      <th>15571</th>\n      <td>Sudan (former)</td>\n      <td>1977</td>\n      <td>2</td>\n      <td>2.0</td>\n      <td>[0.7-4.3]</td>\n      <td>2.0</td>\n      <td>[0.7-4.3]</td>\n    </tr>\n    <tr>\n      <th>15766</th>\n      <td>Sudan (former)</td>\n      <td>1976</td>\n      <td>1</td>\n      <td>0.7</td>\n      <td>[0.2-1.9]</td>\n      <td>0.4</td>\n      <td>[0.1-1.1]</td>\n    </tr>\n    <tr>\n      <th>15961</th>\n      <td>Sudan (former)</td>\n      <td>1976</td>\n      <td>2</td>\n      <td>1.9</td>\n      <td>[0.6-4.2]</td>\n      <td>1.9</td>\n      <td>[0.6-4.2]</td>\n    </tr>\n    <tr>\n      <th>16156</th>\n      <td>Sudan (former)</td>\n      <td>1975</td>\n      <td>1</td>\n      <td>0.7</td>\n      <td>[0.2-1.9]</td>\n      <td>0.3</td>\n      <td>[0.1-1.1]</td>\n    </tr>\n    <tr>\n      <th>16351</th>\n      <td>Sudan (former)</td>\n      <td>1975</td>\n      <td>2</td>\n      <td>1.7</td>\n      <td>[0.5-4.1]</td>\n      <td>1.8</td>\n      <td>[0.6-4.1]</td>\n    </tr>\n  </tbody>\n</table>\n<p>84 rows × 7 columns</p>\n</div>"
     },
     "metadata": {},
     "execution_count": 19
    }
   ],
   "source": [
    "'''\n",
    "04/14/2021\n",
    "\n",
    "To address the additional set of entries in 'Sudan (former)', I will take an average of the two lower values and the two upper values.  The new lower and upper values will then be used to calculate a new value for 'obesity_rate'.  Current obesity_rate values  for 'Sudan (former)' will be discarded.\n",
    "\n",
    "For this reason, column 'extra1' will be dropped immediately.\n",
    "'''\n",
    "# Checking all 'Sudan (former)' entries.\n",
    "rawdata[(rawdata.country == 'Sudan (former)')]"
   ]
  },
  {
   "cell_type": "code",
   "execution_count": 20,
   "metadata": {},
   "outputs": [
    {
     "output_type": "stream",
     "name": "stderr",
     "text": [
      "C:\\Users\\silas\\AppData\\Local\\Programs\\Python\\Python38-32\\lib\\site-packages\\pandas\\core\\frame.py:4162: SettingWithCopyWarning: \nA value is trying to be set on a copy of a slice from a DataFrame\n\nSee the caveats in the documentation: https://pandas.pydata.org/pandas-docs/stable/user_guide/indexing.html#returning-a-view-versus-a-copy\n  return super().drop(\n"
     ]
    },
    {
     "output_type": "execute_result",
     "data": {
      "text/plain": [
       "                                  country  year gender obesity_rate  \\\n",
       "0                             Afghanistan  2016      1          3.2   \n",
       "1                                 Albania  2016      1         21.6   \n",
       "2                                 Algeria  2016      1         19.9   \n",
       "3                                 Andorra  2016      1         25.9   \n",
       "4                                  Angola  2016      1          4.0   \n",
       "...                                   ...   ...    ...          ...   \n",
       "16375  Venezuela (Bolivarian Republic of)  1975      2         13.2   \n",
       "16376                            Viet Nam  1975      2          0.2   \n",
       "16377                               Yemen  1975      2          4.2   \n",
       "16378                              Zambia  1975      2          2.5   \n",
       "16379                            Zimbabwe  1975      2          6.7   \n",
       "\n",
       "       lower_upper extra2  \n",
       "0        [1.3-6.4]   None  \n",
       "1      [14.8-29.0]   None  \n",
       "2      [13.6-27.1]   None  \n",
       "3      [18.0-34.3]   None  \n",
       "4        [1.6-7.9]   None  \n",
       "...            ...    ...  \n",
       "16375   [7.1-20.7]   None  \n",
       "16376    [0.1-0.5]   None  \n",
       "16377    [1.5-8.9]   None  \n",
       "16378    [1.0-5.1]   None  \n",
       "16379   [3.0-12.2]   None  \n",
       "\n",
       "[16044 rows x 6 columns]"
      ],
      "text/html": "<div>\n<style scoped>\n    .dataframe tbody tr th:only-of-type {\n        vertical-align: middle;\n    }\n\n    .dataframe tbody tr th {\n        vertical-align: top;\n    }\n\n    .dataframe thead th {\n        text-align: right;\n    }\n</style>\n<table border=\"1\" class=\"dataframe\">\n  <thead>\n    <tr style=\"text-align: right;\">\n      <th></th>\n      <th>country</th>\n      <th>year</th>\n      <th>gender</th>\n      <th>obesity_rate</th>\n      <th>lower_upper</th>\n      <th>extra2</th>\n    </tr>\n  </thead>\n  <tbody>\n    <tr>\n      <th>0</th>\n      <td>Afghanistan</td>\n      <td>2016</td>\n      <td>1</td>\n      <td>3.2</td>\n      <td>[1.3-6.4]</td>\n      <td>None</td>\n    </tr>\n    <tr>\n      <th>1</th>\n      <td>Albania</td>\n      <td>2016</td>\n      <td>1</td>\n      <td>21.6</td>\n      <td>[14.8-29.0]</td>\n      <td>None</td>\n    </tr>\n    <tr>\n      <th>2</th>\n      <td>Algeria</td>\n      <td>2016</td>\n      <td>1</td>\n      <td>19.9</td>\n      <td>[13.6-27.1]</td>\n      <td>None</td>\n    </tr>\n    <tr>\n      <th>3</th>\n      <td>Andorra</td>\n      <td>2016</td>\n      <td>1</td>\n      <td>25.9</td>\n      <td>[18.0-34.3]</td>\n      <td>None</td>\n    </tr>\n    <tr>\n      <th>4</th>\n      <td>Angola</td>\n      <td>2016</td>\n      <td>1</td>\n      <td>4.0</td>\n      <td>[1.6-7.9]</td>\n      <td>None</td>\n    </tr>\n    <tr>\n      <th>...</th>\n      <td>...</td>\n      <td>...</td>\n      <td>...</td>\n      <td>...</td>\n      <td>...</td>\n      <td>...</td>\n    </tr>\n    <tr>\n      <th>16375</th>\n      <td>Venezuela (Bolivarian Republic of)</td>\n      <td>1975</td>\n      <td>2</td>\n      <td>13.2</td>\n      <td>[7.1-20.7]</td>\n      <td>None</td>\n    </tr>\n    <tr>\n      <th>16376</th>\n      <td>Viet Nam</td>\n      <td>1975</td>\n      <td>2</td>\n      <td>0.2</td>\n      <td>[0.1-0.5]</td>\n      <td>None</td>\n    </tr>\n    <tr>\n      <th>16377</th>\n      <td>Yemen</td>\n      <td>1975</td>\n      <td>2</td>\n      <td>4.2</td>\n      <td>[1.5-8.9]</td>\n      <td>None</td>\n    </tr>\n    <tr>\n      <th>16378</th>\n      <td>Zambia</td>\n      <td>1975</td>\n      <td>2</td>\n      <td>2.5</td>\n      <td>[1.0-5.1]</td>\n      <td>None</td>\n    </tr>\n    <tr>\n      <th>16379</th>\n      <td>Zimbabwe</td>\n      <td>1975</td>\n      <td>2</td>\n      <td>6.7</td>\n      <td>[3.0-12.2]</td>\n      <td>None</td>\n    </tr>\n  </tbody>\n</table>\n<p>16044 rows × 6 columns</p>\n</div>"
     },
     "metadata": {},
     "execution_count": 20
    }
   ],
   "source": [
    "# Dropping column 'extra1'.\n",
    "rawdata.drop('extra1', axis=1, inplace=True)\n",
    "rawdata"
   ]
  },
  {
   "cell_type": "code",
   "execution_count": 21,
   "metadata": {},
   "outputs": [
    {
     "output_type": "stream",
     "name": "stderr",
     "text": [
      "C:\\Users\\silas\\AppData\\Local\\Programs\\Python\\Python38-32\\lib\\site-packages\\pandas\\core\\generic.py:5165: SettingWithCopyWarning: \nA value is trying to be set on a copy of a slice from a DataFrame.\nTry using .loc[row_indexer,col_indexer] = value instead\n\nSee the caveats in the documentation: https://pandas.pydata.org/pandas-docs/stable/user_guide/indexing.html#returning-a-view-versus-a-copy\n  self[name] = value\n"
     ]
    }
   ],
   "source": [
    "# Removing the square brackets from the lower and upper values.\n",
    "'''\n",
    "Multiple str methods can be used at once by chaining them together as shown below.\n",
    "'''\n",
    "rawdata.lower_upper = rawdata.lower_upper.str.lstrip('[').str.rstrip(']')\n",
    "rawdata.extra2 = rawdata.extra2.str.lstrip('[').str.rstrip(']')\n",
    "# rawdata\n",
    "# rawdata[(rawdata.country == 'Sudan (former)')]"
   ]
  },
  {
   "cell_type": "code",
   "execution_count": 22,
   "metadata": {},
   "outputs": [
    {
     "output_type": "stream",
     "name": "stderr",
     "text": [
      "C:\\Users\\silas\\AppData\\Local\\Programs\\Python\\Python38-32\\lib\\site-packages\\pandas\\core\\frame.py:3065: SettingWithCopyWarning: \nA value is trying to be set on a copy of a slice from a DataFrame.\nTry using .loc[row_indexer,col_indexer] = value instead\n\nSee the caveats in the documentation: https://pandas.pydata.org/pandas-docs/stable/user_guide/indexing.html#returning-a-view-versus-a-copy\n  self[k1] = value[k2]\n"
     ]
    },
    {
     "output_type": "execute_result",
     "data": {
      "text/plain": [
       "                                  country  year gender obesity_rate  \\\n",
       "0                             Afghanistan  2016      1          3.2   \n",
       "1                                 Albania  2016      1         21.6   \n",
       "2                                 Algeria  2016      1         19.9   \n",
       "3                                 Andorra  2016      1         25.9   \n",
       "4                                  Angola  2016      1          4.0   \n",
       "...                                   ...   ...    ...          ...   \n",
       "16375  Venezuela (Bolivarian Republic of)  1975      2         13.2   \n",
       "16376                            Viet Nam  1975      2          0.2   \n",
       "16377                               Yemen  1975      2          4.2   \n",
       "16378                              Zambia  1975      2          2.5   \n",
       "16379                            Zimbabwe  1975      2          6.7   \n",
       "\n",
       "      lower_upper extra2 lower upper  \n",
       "0         1.3-6.4   None   1.3   6.4  \n",
       "1       14.8-29.0   None  14.8  29.0  \n",
       "2       13.6-27.1   None  13.6  27.1  \n",
       "3       18.0-34.3   None  18.0  34.3  \n",
       "4         1.6-7.9   None   1.6   7.9  \n",
       "...           ...    ...   ...   ...  \n",
       "16375    7.1-20.7   None   7.1  20.7  \n",
       "16376     0.1-0.5   None   0.1   0.5  \n",
       "16377     1.5-8.9   None   1.5   8.9  \n",
       "16378     1.0-5.1   None   1.0   5.1  \n",
       "16379    3.0-12.2   None   3.0  12.2  \n",
       "\n",
       "[16044 rows x 8 columns]"
      ],
      "text/html": "<div>\n<style scoped>\n    .dataframe tbody tr th:only-of-type {\n        vertical-align: middle;\n    }\n\n    .dataframe tbody tr th {\n        vertical-align: top;\n    }\n\n    .dataframe thead th {\n        text-align: right;\n    }\n</style>\n<table border=\"1\" class=\"dataframe\">\n  <thead>\n    <tr style=\"text-align: right;\">\n      <th></th>\n      <th>country</th>\n      <th>year</th>\n      <th>gender</th>\n      <th>obesity_rate</th>\n      <th>lower_upper</th>\n      <th>extra2</th>\n      <th>lower</th>\n      <th>upper</th>\n    </tr>\n  </thead>\n  <tbody>\n    <tr>\n      <th>0</th>\n      <td>Afghanistan</td>\n      <td>2016</td>\n      <td>1</td>\n      <td>3.2</td>\n      <td>1.3-6.4</td>\n      <td>None</td>\n      <td>1.3</td>\n      <td>6.4</td>\n    </tr>\n    <tr>\n      <th>1</th>\n      <td>Albania</td>\n      <td>2016</td>\n      <td>1</td>\n      <td>21.6</td>\n      <td>14.8-29.0</td>\n      <td>None</td>\n      <td>14.8</td>\n      <td>29.0</td>\n    </tr>\n    <tr>\n      <th>2</th>\n      <td>Algeria</td>\n      <td>2016</td>\n      <td>1</td>\n      <td>19.9</td>\n      <td>13.6-27.1</td>\n      <td>None</td>\n      <td>13.6</td>\n      <td>27.1</td>\n    </tr>\n    <tr>\n      <th>3</th>\n      <td>Andorra</td>\n      <td>2016</td>\n      <td>1</td>\n      <td>25.9</td>\n      <td>18.0-34.3</td>\n      <td>None</td>\n      <td>18.0</td>\n      <td>34.3</td>\n    </tr>\n    <tr>\n      <th>4</th>\n      <td>Angola</td>\n      <td>2016</td>\n      <td>1</td>\n      <td>4.0</td>\n      <td>1.6-7.9</td>\n      <td>None</td>\n      <td>1.6</td>\n      <td>7.9</td>\n    </tr>\n    <tr>\n      <th>...</th>\n      <td>...</td>\n      <td>...</td>\n      <td>...</td>\n      <td>...</td>\n      <td>...</td>\n      <td>...</td>\n      <td>...</td>\n      <td>...</td>\n    </tr>\n    <tr>\n      <th>16375</th>\n      <td>Venezuela (Bolivarian Republic of)</td>\n      <td>1975</td>\n      <td>2</td>\n      <td>13.2</td>\n      <td>7.1-20.7</td>\n      <td>None</td>\n      <td>7.1</td>\n      <td>20.7</td>\n    </tr>\n    <tr>\n      <th>16376</th>\n      <td>Viet Nam</td>\n      <td>1975</td>\n      <td>2</td>\n      <td>0.2</td>\n      <td>0.1-0.5</td>\n      <td>None</td>\n      <td>0.1</td>\n      <td>0.5</td>\n    </tr>\n    <tr>\n      <th>16377</th>\n      <td>Yemen</td>\n      <td>1975</td>\n      <td>2</td>\n      <td>4.2</td>\n      <td>1.5-8.9</td>\n      <td>None</td>\n      <td>1.5</td>\n      <td>8.9</td>\n    </tr>\n    <tr>\n      <th>16378</th>\n      <td>Zambia</td>\n      <td>1975</td>\n      <td>2</td>\n      <td>2.5</td>\n      <td>1.0-5.1</td>\n      <td>None</td>\n      <td>1.0</td>\n      <td>5.1</td>\n    </tr>\n    <tr>\n      <th>16379</th>\n      <td>Zimbabwe</td>\n      <td>1975</td>\n      <td>2</td>\n      <td>6.7</td>\n      <td>3.0-12.2</td>\n      <td>None</td>\n      <td>3.0</td>\n      <td>12.2</td>\n    </tr>\n  </tbody>\n</table>\n<p>16044 rows × 8 columns</p>\n</div>"
     },
     "metadata": {},
     "execution_count": 22
    }
   ],
   "source": [
    "# Splitting entries in lower_upper into their own columns.\n",
    "rawdata[['lower','upper']] = rawdata.lower_upper.str.split(pat='-', expand=True)\n",
    "rawdata"
   ]
  },
  {
   "cell_type": "code",
   "execution_count": 23,
   "metadata": {},
   "outputs": [
    {
     "output_type": "stream",
     "name": "stderr",
     "text": [
      "C:\\Users\\silas\\AppData\\Local\\Programs\\Python\\Python38-32\\lib\\site-packages\\pandas\\core\\frame.py:4162: SettingWithCopyWarning: \nA value is trying to be set on a copy of a slice from a DataFrame\n\nSee the caveats in the documentation: https://pandas.pydata.org/pandas-docs/stable/user_guide/indexing.html#returning-a-view-versus-a-copy\n  return super().drop(\n"
     ]
    },
    {
     "output_type": "execute_result",
     "data": {
      "text/plain": [
       "                                  country  year gender obesity_rate extra2  \\\n",
       "0                             Afghanistan  2016      1          3.2   None   \n",
       "1                                 Albania  2016      1         21.6   None   \n",
       "2                                 Algeria  2016      1         19.9   None   \n",
       "3                                 Andorra  2016      1         25.9   None   \n",
       "4                                  Angola  2016      1          4.0   None   \n",
       "...                                   ...   ...    ...          ...    ...   \n",
       "16375  Venezuela (Bolivarian Republic of)  1975      2         13.2   None   \n",
       "16376                            Viet Nam  1975      2          0.2   None   \n",
       "16377                               Yemen  1975      2          4.2   None   \n",
       "16378                              Zambia  1975      2          2.5   None   \n",
       "16379                            Zimbabwe  1975      2          6.7   None   \n",
       "\n",
       "      lower upper  \n",
       "0       1.3   6.4  \n",
       "1      14.8  29.0  \n",
       "2      13.6  27.1  \n",
       "3      18.0  34.3  \n",
       "4       1.6   7.9  \n",
       "...     ...   ...  \n",
       "16375   7.1  20.7  \n",
       "16376   0.1   0.5  \n",
       "16377   1.5   8.9  \n",
       "16378   1.0   5.1  \n",
       "16379   3.0  12.2  \n",
       "\n",
       "[16044 rows x 7 columns]"
      ],
      "text/html": "<div>\n<style scoped>\n    .dataframe tbody tr th:only-of-type {\n        vertical-align: middle;\n    }\n\n    .dataframe tbody tr th {\n        vertical-align: top;\n    }\n\n    .dataframe thead th {\n        text-align: right;\n    }\n</style>\n<table border=\"1\" class=\"dataframe\">\n  <thead>\n    <tr style=\"text-align: right;\">\n      <th></th>\n      <th>country</th>\n      <th>year</th>\n      <th>gender</th>\n      <th>obesity_rate</th>\n      <th>extra2</th>\n      <th>lower</th>\n      <th>upper</th>\n    </tr>\n  </thead>\n  <tbody>\n    <tr>\n      <th>0</th>\n      <td>Afghanistan</td>\n      <td>2016</td>\n      <td>1</td>\n      <td>3.2</td>\n      <td>None</td>\n      <td>1.3</td>\n      <td>6.4</td>\n    </tr>\n    <tr>\n      <th>1</th>\n      <td>Albania</td>\n      <td>2016</td>\n      <td>1</td>\n      <td>21.6</td>\n      <td>None</td>\n      <td>14.8</td>\n      <td>29.0</td>\n    </tr>\n    <tr>\n      <th>2</th>\n      <td>Algeria</td>\n      <td>2016</td>\n      <td>1</td>\n      <td>19.9</td>\n      <td>None</td>\n      <td>13.6</td>\n      <td>27.1</td>\n    </tr>\n    <tr>\n      <th>3</th>\n      <td>Andorra</td>\n      <td>2016</td>\n      <td>1</td>\n      <td>25.9</td>\n      <td>None</td>\n      <td>18.0</td>\n      <td>34.3</td>\n    </tr>\n    <tr>\n      <th>4</th>\n      <td>Angola</td>\n      <td>2016</td>\n      <td>1</td>\n      <td>4.0</td>\n      <td>None</td>\n      <td>1.6</td>\n      <td>7.9</td>\n    </tr>\n    <tr>\n      <th>...</th>\n      <td>...</td>\n      <td>...</td>\n      <td>...</td>\n      <td>...</td>\n      <td>...</td>\n      <td>...</td>\n      <td>...</td>\n    </tr>\n    <tr>\n      <th>16375</th>\n      <td>Venezuela (Bolivarian Republic of)</td>\n      <td>1975</td>\n      <td>2</td>\n      <td>13.2</td>\n      <td>None</td>\n      <td>7.1</td>\n      <td>20.7</td>\n    </tr>\n    <tr>\n      <th>16376</th>\n      <td>Viet Nam</td>\n      <td>1975</td>\n      <td>2</td>\n      <td>0.2</td>\n      <td>None</td>\n      <td>0.1</td>\n      <td>0.5</td>\n    </tr>\n    <tr>\n      <th>16377</th>\n      <td>Yemen</td>\n      <td>1975</td>\n      <td>2</td>\n      <td>4.2</td>\n      <td>None</td>\n      <td>1.5</td>\n      <td>8.9</td>\n    </tr>\n    <tr>\n      <th>16378</th>\n      <td>Zambia</td>\n      <td>1975</td>\n      <td>2</td>\n      <td>2.5</td>\n      <td>None</td>\n      <td>1.0</td>\n      <td>5.1</td>\n    </tr>\n    <tr>\n      <th>16379</th>\n      <td>Zimbabwe</td>\n      <td>1975</td>\n      <td>2</td>\n      <td>6.7</td>\n      <td>None</td>\n      <td>3.0</td>\n      <td>12.2</td>\n    </tr>\n  </tbody>\n</table>\n<p>16044 rows × 7 columns</p>\n</div>"
     },
     "metadata": {},
     "execution_count": 23
    }
   ],
   "source": [
    "# Dropping column lower_upper now that the values have been split.\n",
    "rawdata.drop('lower_upper', axis=1, inplace=True)\n",
    "rawdata"
   ]
  },
  {
   "cell_type": "code",
   "execution_count": 24,
   "metadata": {},
   "outputs": [
    {
     "output_type": "stream",
     "name": "stderr",
     "text": [
      "C:\\Users\\silas\\AppData\\Local\\Programs\\Python\\Python38-32\\lib\\site-packages\\pandas\\core\\frame.py:3065: SettingWithCopyWarning: \nA value is trying to be set on a copy of a slice from a DataFrame.\nTry using .loc[row_indexer,col_indexer] = value instead\n\nSee the caveats in the documentation: https://pandas.pydata.org/pandas-docs/stable/user_guide/indexing.html#returning-a-view-versus-a-copy\n  self[k1] = value[k2]\n"
     ]
    },
    {
     "output_type": "execute_result",
     "data": {
      "text/plain": [
       "              country  year gender obesity_rate   extra2 lower upper  \\\n",
       "166    Sudan (former)  2016      1          3.8     None   1.8   7.0   \n",
       "361    Sudan (former)  2016      2         12.4     None   7.9  18.4   \n",
       "556    Sudan (former)  2015      1          3.6     None   1.7   6.6   \n",
       "751    Sudan (former)  2015      2         12.0     None   7.6  17.7   \n",
       "946    Sudan (former)  2014      1          4.2  1.6-6.2   2.1   7.3   \n",
       "...               ...   ...    ...          ...      ...   ...   ...   \n",
       "15571  Sudan (former)  1977      2          2.0  0.7-4.3   0.7   4.3   \n",
       "15766  Sudan (former)  1976      1          0.7  0.1-1.1   0.2   1.9   \n",
       "15961  Sudan (former)  1976      2          1.9  0.6-4.2   0.6   4.2   \n",
       "16156  Sudan (former)  1975      1          0.7  0.1-1.1   0.2   1.9   \n",
       "16351  Sudan (former)  1975      2          1.7  0.6-4.1   0.5   4.1   \n",
       "\n",
       "      sudan_lower sudan_upper  \n",
       "166          None        None  \n",
       "361          None        None  \n",
       "556          None        None  \n",
       "751          None        None  \n",
       "946           1.6         6.2  \n",
       "...           ...         ...  \n",
       "15571         0.7         4.3  \n",
       "15766         0.1         1.1  \n",
       "15961         0.6         4.2  \n",
       "16156         0.1         1.1  \n",
       "16351         0.6         4.1  \n",
       "\n",
       "[84 rows x 9 columns]"
      ],
      "text/html": "<div>\n<style scoped>\n    .dataframe tbody tr th:only-of-type {\n        vertical-align: middle;\n    }\n\n    .dataframe tbody tr th {\n        vertical-align: top;\n    }\n\n    .dataframe thead th {\n        text-align: right;\n    }\n</style>\n<table border=\"1\" class=\"dataframe\">\n  <thead>\n    <tr style=\"text-align: right;\">\n      <th></th>\n      <th>country</th>\n      <th>year</th>\n      <th>gender</th>\n      <th>obesity_rate</th>\n      <th>extra2</th>\n      <th>lower</th>\n      <th>upper</th>\n      <th>sudan_lower</th>\n      <th>sudan_upper</th>\n    </tr>\n  </thead>\n  <tbody>\n    <tr>\n      <th>166</th>\n      <td>Sudan (former)</td>\n      <td>2016</td>\n      <td>1</td>\n      <td>3.8</td>\n      <td>None</td>\n      <td>1.8</td>\n      <td>7.0</td>\n      <td>None</td>\n      <td>None</td>\n    </tr>\n    <tr>\n      <th>361</th>\n      <td>Sudan (former)</td>\n      <td>2016</td>\n      <td>2</td>\n      <td>12.4</td>\n      <td>None</td>\n      <td>7.9</td>\n      <td>18.4</td>\n      <td>None</td>\n      <td>None</td>\n    </tr>\n    <tr>\n      <th>556</th>\n      <td>Sudan (former)</td>\n      <td>2015</td>\n      <td>1</td>\n      <td>3.6</td>\n      <td>None</td>\n      <td>1.7</td>\n      <td>6.6</td>\n      <td>None</td>\n      <td>None</td>\n    </tr>\n    <tr>\n      <th>751</th>\n      <td>Sudan (former)</td>\n      <td>2015</td>\n      <td>2</td>\n      <td>12.0</td>\n      <td>None</td>\n      <td>7.6</td>\n      <td>17.7</td>\n      <td>None</td>\n      <td>None</td>\n    </tr>\n    <tr>\n      <th>946</th>\n      <td>Sudan (former)</td>\n      <td>2014</td>\n      <td>1</td>\n      <td>4.2</td>\n      <td>1.6-6.2</td>\n      <td>2.1</td>\n      <td>7.3</td>\n      <td>1.6</td>\n      <td>6.2</td>\n    </tr>\n    <tr>\n      <th>...</th>\n      <td>...</td>\n      <td>...</td>\n      <td>...</td>\n      <td>...</td>\n      <td>...</td>\n      <td>...</td>\n      <td>...</td>\n      <td>...</td>\n      <td>...</td>\n    </tr>\n    <tr>\n      <th>15571</th>\n      <td>Sudan (former)</td>\n      <td>1977</td>\n      <td>2</td>\n      <td>2.0</td>\n      <td>0.7-4.3</td>\n      <td>0.7</td>\n      <td>4.3</td>\n      <td>0.7</td>\n      <td>4.3</td>\n    </tr>\n    <tr>\n      <th>15766</th>\n      <td>Sudan (former)</td>\n      <td>1976</td>\n      <td>1</td>\n      <td>0.7</td>\n      <td>0.1-1.1</td>\n      <td>0.2</td>\n      <td>1.9</td>\n      <td>0.1</td>\n      <td>1.1</td>\n    </tr>\n    <tr>\n      <th>15961</th>\n      <td>Sudan (former)</td>\n      <td>1976</td>\n      <td>2</td>\n      <td>1.9</td>\n      <td>0.6-4.2</td>\n      <td>0.6</td>\n      <td>4.2</td>\n      <td>0.6</td>\n      <td>4.2</td>\n    </tr>\n    <tr>\n      <th>16156</th>\n      <td>Sudan (former)</td>\n      <td>1975</td>\n      <td>1</td>\n      <td>0.7</td>\n      <td>0.1-1.1</td>\n      <td>0.2</td>\n      <td>1.9</td>\n      <td>0.1</td>\n      <td>1.1</td>\n    </tr>\n    <tr>\n      <th>16351</th>\n      <td>Sudan (former)</td>\n      <td>1975</td>\n      <td>2</td>\n      <td>1.7</td>\n      <td>0.6-4.1</td>\n      <td>0.5</td>\n      <td>4.1</td>\n      <td>0.6</td>\n      <td>4.1</td>\n    </tr>\n  </tbody>\n</table>\n<p>84 rows × 9 columns</p>\n</div>"
     },
     "metadata": {},
     "execution_count": 24
    }
   ],
   "source": [
    "# Splitting the Sudan lower and upper entries into their own columns.\n",
    "rawdata[['sudan_lower','sudan_upper']] = rawdata.extra2.str.split(pat='-', expand=True)\n",
    "rawdata[(rawdata.country == 'Sudan (former)')]"
   ]
  },
  {
   "cell_type": "code",
   "execution_count": 25,
   "metadata": {},
   "outputs": [
    {
     "output_type": "stream",
     "name": "stderr",
     "text": [
      "C:\\Users\\silas\\AppData\\Local\\Programs\\Python\\Python38-32\\lib\\site-packages\\pandas\\core\\frame.py:4162: SettingWithCopyWarning: \nA value is trying to be set on a copy of a slice from a DataFrame\n\nSee the caveats in the documentation: https://pandas.pydata.org/pandas-docs/stable/user_guide/indexing.html#returning-a-view-versus-a-copy\n  return super().drop(\n"
     ]
    }
   ],
   "source": [
    "# Dropping column 'extra2' now that the split has been done.\n",
    "rawdata.drop('extra2', axis=1, inplace=True)\n",
    "# rawdata\n",
    "# rawdata[(rawdata.country == 'Sudan (former)')]"
   ]
  },
  {
   "cell_type": "code",
   "execution_count": 26,
   "metadata": {},
   "outputs": [
    {
     "output_type": "execute_result",
     "data": {
      "text/plain": [
       "country         object\n",
       "year            object\n",
       "gender          object\n",
       "obesity_rate    object\n",
       "lower           object\n",
       "upper           object\n",
       "sudan_lower     object\n",
       "sudan_upper     object\n",
       "dtype: object"
      ]
     },
     "metadata": {},
     "execution_count": 26
    }
   ],
   "source": [
    "# Checking the dtypes of all columns.\n",
    "rawdata.dtypes"
   ]
  },
  {
   "cell_type": "code",
   "execution_count": 27,
   "metadata": {},
   "outputs": [
    {
     "output_type": "execute_result",
     "data": {
      "text/plain": [
       "country          object\n",
       "year              int32\n",
       "gender            int32\n",
       "obesity_rate    float64\n",
       "lower           float64\n",
       "upper           float64\n",
       "sudan_lower     float64\n",
       "sudan_upper     float64\n",
       "dtype: object"
      ]
     },
     "metadata": {},
     "execution_count": 27
    }
   ],
   "source": [
    "# Converting some of the columns to their appropriate dtypes.\n",
    "# Method 1, using dicts: https://www.geeksforgeeks.org/change-data-type-for-one-or-more-columns-in-pandas-dataframe/\n",
    "columns_to_convert = {'year':int,\n",
    "    'gender':int,\n",
    "    'obesity_rate':float,\n",
    "    'lower':float,\n",
    "    'upper':float,\n",
    "    'sudan_lower':float,\n",
    "    'sudan_upper':float}\n",
    "rawdata = rawdata.astype(columns_to_convert)\n",
    "rawdata.dtypes"
   ]
  },
  {
   "cell_type": "code",
   "execution_count": null,
   "metadata": {},
   "outputs": [],
   "source": []
  },
  {
   "cell_type": "code",
   "execution_count": 28,
   "metadata": {},
   "outputs": [
    {
     "output_type": "execute_result",
     "data": {
      "text/plain": [
       "country          object\n",
       "year              int32\n",
       "gender            int32\n",
       "obesity_rate    float64\n",
       "lower           float64\n",
       "upper           float64\n",
       "sudan_lower     float64\n",
       "sudan_upper     float64\n",
       "dtype: object"
      ]
     },
     "metadata": {},
     "execution_count": 28
    }
   ],
   "source": [
    "# Converting 'year' column to int dtype.\n",
    "rawdata.year = rawdata.year.astype('int')\n",
    "rawdata.dtypes"
   ]
  },
  {
   "cell_type": "code",
   "execution_count": 29,
   "metadata": {},
   "outputs": [
    {
     "output_type": "execute_result",
     "data": {
      "text/plain": [
       "country          object\n",
       "year              int32\n",
       "gender            int32\n",
       "obesity_rate    float64\n",
       "lower           float64\n",
       "upper           float64\n",
       "sudan_lower     float64\n",
       "sudan_upper     float64\n",
       "dtype: object"
      ]
     },
     "metadata": {},
     "execution_count": 29
    }
   ],
   "source": [
    "# Converting 'gender' column to int dtype.\n",
    "rawdata.gender = rawdata.gender.astype('int')\n",
    "rawdata.dtypes"
   ]
  },
  {
   "cell_type": "code",
   "execution_count": 30,
   "metadata": {},
   "outputs": [
    {
     "output_type": "execute_result",
     "data": {
      "text/plain": [
       "              country  year  gender  obesity_rate  lower  upper  sudan_lower  \\\n",
       "166    Sudan (former)  2016       1           3.8    1.8    7.0          NaN   \n",
       "361    Sudan (former)  2016       2          12.4    7.9   18.4          NaN   \n",
       "556    Sudan (former)  2015       1           3.6    1.7    6.6          NaN   \n",
       "751    Sudan (former)  2015       2          12.0    7.6   17.7          NaN   \n",
       "946    Sudan (former)  2014       1           4.2    2.1    7.3          1.6   \n",
       "...               ...   ...     ...           ...    ...    ...          ...   \n",
       "15571  Sudan (former)  1977       2           2.0    0.7    4.3          0.7   \n",
       "15766  Sudan (former)  1976       1           0.7    0.2    1.9          0.1   \n",
       "15961  Sudan (former)  1976       2           1.9    0.6    4.2          0.6   \n",
       "16156  Sudan (former)  1975       1           0.7    0.2    1.9          0.1   \n",
       "16351  Sudan (former)  1975       2           1.7    0.5    4.1          0.6   \n",
       "\n",
       "       sudan_upper  \n",
       "166            NaN  \n",
       "361            NaN  \n",
       "556            NaN  \n",
       "751            NaN  \n",
       "946            6.2  \n",
       "...            ...  \n",
       "15571          4.3  \n",
       "15766          1.1  \n",
       "15961          4.2  \n",
       "16156          1.1  \n",
       "16351          4.1  \n",
       "\n",
       "[84 rows x 8 columns]"
      ],
      "text/html": "<div>\n<style scoped>\n    .dataframe tbody tr th:only-of-type {\n        vertical-align: middle;\n    }\n\n    .dataframe tbody tr th {\n        vertical-align: top;\n    }\n\n    .dataframe thead th {\n        text-align: right;\n    }\n</style>\n<table border=\"1\" class=\"dataframe\">\n  <thead>\n    <tr style=\"text-align: right;\">\n      <th></th>\n      <th>country</th>\n      <th>year</th>\n      <th>gender</th>\n      <th>obesity_rate</th>\n      <th>lower</th>\n      <th>upper</th>\n      <th>sudan_lower</th>\n      <th>sudan_upper</th>\n    </tr>\n  </thead>\n  <tbody>\n    <tr>\n      <th>166</th>\n      <td>Sudan (former)</td>\n      <td>2016</td>\n      <td>1</td>\n      <td>3.8</td>\n      <td>1.8</td>\n      <td>7.0</td>\n      <td>NaN</td>\n      <td>NaN</td>\n    </tr>\n    <tr>\n      <th>361</th>\n      <td>Sudan (former)</td>\n      <td>2016</td>\n      <td>2</td>\n      <td>12.4</td>\n      <td>7.9</td>\n      <td>18.4</td>\n      <td>NaN</td>\n      <td>NaN</td>\n    </tr>\n    <tr>\n      <th>556</th>\n      <td>Sudan (former)</td>\n      <td>2015</td>\n      <td>1</td>\n      <td>3.6</td>\n      <td>1.7</td>\n      <td>6.6</td>\n      <td>NaN</td>\n      <td>NaN</td>\n    </tr>\n    <tr>\n      <th>751</th>\n      <td>Sudan (former)</td>\n      <td>2015</td>\n      <td>2</td>\n      <td>12.0</td>\n      <td>7.6</td>\n      <td>17.7</td>\n      <td>NaN</td>\n      <td>NaN</td>\n    </tr>\n    <tr>\n      <th>946</th>\n      <td>Sudan (former)</td>\n      <td>2014</td>\n      <td>1</td>\n      <td>4.2</td>\n      <td>2.1</td>\n      <td>7.3</td>\n      <td>1.6</td>\n      <td>6.2</td>\n    </tr>\n    <tr>\n      <th>...</th>\n      <td>...</td>\n      <td>...</td>\n      <td>...</td>\n      <td>...</td>\n      <td>...</td>\n      <td>...</td>\n      <td>...</td>\n      <td>...</td>\n    </tr>\n    <tr>\n      <th>15571</th>\n      <td>Sudan (former)</td>\n      <td>1977</td>\n      <td>2</td>\n      <td>2.0</td>\n      <td>0.7</td>\n      <td>4.3</td>\n      <td>0.7</td>\n      <td>4.3</td>\n    </tr>\n    <tr>\n      <th>15766</th>\n      <td>Sudan (former)</td>\n      <td>1976</td>\n      <td>1</td>\n      <td>0.7</td>\n      <td>0.2</td>\n      <td>1.9</td>\n      <td>0.1</td>\n      <td>1.1</td>\n    </tr>\n    <tr>\n      <th>15961</th>\n      <td>Sudan (former)</td>\n      <td>1976</td>\n      <td>2</td>\n      <td>1.9</td>\n      <td>0.6</td>\n      <td>4.2</td>\n      <td>0.6</td>\n      <td>4.2</td>\n    </tr>\n    <tr>\n      <th>16156</th>\n      <td>Sudan (former)</td>\n      <td>1975</td>\n      <td>1</td>\n      <td>0.7</td>\n      <td>0.2</td>\n      <td>1.9</td>\n      <td>0.1</td>\n      <td>1.1</td>\n    </tr>\n    <tr>\n      <th>16351</th>\n      <td>Sudan (former)</td>\n      <td>1975</td>\n      <td>2</td>\n      <td>1.7</td>\n      <td>0.5</td>\n      <td>4.1</td>\n      <td>0.6</td>\n      <td>4.1</td>\n    </tr>\n  </tbody>\n</table>\n<p>84 rows × 8 columns</p>\n</div>"
     },
     "metadata": {},
     "execution_count": 30
    }
   ],
   "source": [
    "'''\n",
    "Now that lower, upper, sudan_lower, and sudan_upper entries are now floats, can proceed with averaging all 'Sudan (former)' lower and upper entries into a singular lower and singular upper value.  From there, we will calculate a new 'obesity_rate' for 'Sudan (former)' entries.\n",
    "'''\n",
    "# Checking 'sudan (former)' entries prior to change.\n",
    "rawdata[(rawdata.country == 'Sudan (former)')]"
   ]
  },
  {
   "cell_type": "code",
   "execution_count": 31,
   "metadata": {},
   "outputs": [
    {
     "output_type": "execute_result",
     "data": {
      "text/plain": [
       "              country  year  gender  obesity_rate  lower  upper  sudan_lower  \\\n",
       "166    Sudan (former)  2016       1           3.8   1.80    7.0          NaN   \n",
       "361    Sudan (former)  2016       2          12.4   7.90   18.4          NaN   \n",
       "556    Sudan (former)  2015       1           3.6   1.70    6.6          NaN   \n",
       "751    Sudan (former)  2015       2          12.0   7.60   17.7          NaN   \n",
       "946    Sudan (former)  2014       1           4.2   1.85    7.3          1.6   \n",
       "...               ...   ...     ...           ...    ...    ...          ...   \n",
       "15571  Sudan (former)  1977       2           2.0   0.70    4.3          0.7   \n",
       "15766  Sudan (former)  1976       1           0.7   0.15    1.9          0.1   \n",
       "15961  Sudan (former)  1976       2           1.9   0.60    4.2          0.6   \n",
       "16156  Sudan (former)  1975       1           0.7   0.15    1.9          0.1   \n",
       "16351  Sudan (former)  1975       2           1.7   0.55    4.1          0.6   \n",
       "\n",
       "       sudan_upper  \n",
       "166            NaN  \n",
       "361            NaN  \n",
       "556            NaN  \n",
       "751            NaN  \n",
       "946            6.2  \n",
       "...            ...  \n",
       "15571          4.3  \n",
       "15766          1.1  \n",
       "15961          4.2  \n",
       "16156          1.1  \n",
       "16351          4.1  \n",
       "\n",
       "[84 rows x 8 columns]"
      ],
      "text/html": "<div>\n<style scoped>\n    .dataframe tbody tr th:only-of-type {\n        vertical-align: middle;\n    }\n\n    .dataframe tbody tr th {\n        vertical-align: top;\n    }\n\n    .dataframe thead th {\n        text-align: right;\n    }\n</style>\n<table border=\"1\" class=\"dataframe\">\n  <thead>\n    <tr style=\"text-align: right;\">\n      <th></th>\n      <th>country</th>\n      <th>year</th>\n      <th>gender</th>\n      <th>obesity_rate</th>\n      <th>lower</th>\n      <th>upper</th>\n      <th>sudan_lower</th>\n      <th>sudan_upper</th>\n    </tr>\n  </thead>\n  <tbody>\n    <tr>\n      <th>166</th>\n      <td>Sudan (former)</td>\n      <td>2016</td>\n      <td>1</td>\n      <td>3.8</td>\n      <td>1.80</td>\n      <td>7.0</td>\n      <td>NaN</td>\n      <td>NaN</td>\n    </tr>\n    <tr>\n      <th>361</th>\n      <td>Sudan (former)</td>\n      <td>2016</td>\n      <td>2</td>\n      <td>12.4</td>\n      <td>7.90</td>\n      <td>18.4</td>\n      <td>NaN</td>\n      <td>NaN</td>\n    </tr>\n    <tr>\n      <th>556</th>\n      <td>Sudan (former)</td>\n      <td>2015</td>\n      <td>1</td>\n      <td>3.6</td>\n      <td>1.70</td>\n      <td>6.6</td>\n      <td>NaN</td>\n      <td>NaN</td>\n    </tr>\n    <tr>\n      <th>751</th>\n      <td>Sudan (former)</td>\n      <td>2015</td>\n      <td>2</td>\n      <td>12.0</td>\n      <td>7.60</td>\n      <td>17.7</td>\n      <td>NaN</td>\n      <td>NaN</td>\n    </tr>\n    <tr>\n      <th>946</th>\n      <td>Sudan (former)</td>\n      <td>2014</td>\n      <td>1</td>\n      <td>4.2</td>\n      <td>1.85</td>\n      <td>7.3</td>\n      <td>1.6</td>\n      <td>6.2</td>\n    </tr>\n    <tr>\n      <th>...</th>\n      <td>...</td>\n      <td>...</td>\n      <td>...</td>\n      <td>...</td>\n      <td>...</td>\n      <td>...</td>\n      <td>...</td>\n      <td>...</td>\n    </tr>\n    <tr>\n      <th>15571</th>\n      <td>Sudan (former)</td>\n      <td>1977</td>\n      <td>2</td>\n      <td>2.0</td>\n      <td>0.70</td>\n      <td>4.3</td>\n      <td>0.7</td>\n      <td>4.3</td>\n    </tr>\n    <tr>\n      <th>15766</th>\n      <td>Sudan (former)</td>\n      <td>1976</td>\n      <td>1</td>\n      <td>0.7</td>\n      <td>0.15</td>\n      <td>1.9</td>\n      <td>0.1</td>\n      <td>1.1</td>\n    </tr>\n    <tr>\n      <th>15961</th>\n      <td>Sudan (former)</td>\n      <td>1976</td>\n      <td>2</td>\n      <td>1.9</td>\n      <td>0.60</td>\n      <td>4.2</td>\n      <td>0.6</td>\n      <td>4.2</td>\n    </tr>\n    <tr>\n      <th>16156</th>\n      <td>Sudan (former)</td>\n      <td>1975</td>\n      <td>1</td>\n      <td>0.7</td>\n      <td>0.15</td>\n      <td>1.9</td>\n      <td>0.1</td>\n      <td>1.1</td>\n    </tr>\n    <tr>\n      <th>16351</th>\n      <td>Sudan (former)</td>\n      <td>1975</td>\n      <td>2</td>\n      <td>1.7</td>\n      <td>0.55</td>\n      <td>4.1</td>\n      <td>0.6</td>\n      <td>4.1</td>\n    </tr>\n  </tbody>\n</table>\n<p>84 rows × 8 columns</p>\n</div>"
     },
     "metadata": {},
     "execution_count": 31
    }
   ],
   "source": [
    "# For entries where country is 'Sudan (former)' and year is <= 2014, average the value in column 'lower' with the value in 'sudan_lower', then replace the old average in column 'lower' with this new average.\n",
    "rawdata.loc[(rawdata.country == 'Sudan (former)') & (rawdata.year <= 2014), 'lower'] = (\n",
    "    rawdata.loc[(rawdata.country == 'Sudan (former)') & (rawdata.year <= 2014), 'lower'] + \n",
    "    rawdata.loc[(rawdata.country == 'Sudan (former)') & (rawdata.year <= 2014), 'sudan_lower']\n",
    "    )/2\n",
    "\n",
    "rawdata[(rawdata.country == 'Sudan (former)')]"
   ]
  },
  {
   "cell_type": "code",
   "execution_count": 32,
   "metadata": {},
   "outputs": [
    {
     "output_type": "execute_result",
     "data": {
      "text/plain": [
       "              country  year  gender  obesity_rate  lower  upper  sudan_lower  \\\n",
       "166    Sudan (former)  2016       1           3.8   1.80   7.00          NaN   \n",
       "361    Sudan (former)  2016       2          12.4   7.90  18.40          NaN   \n",
       "556    Sudan (former)  2015       1           3.6   1.70   6.60          NaN   \n",
       "751    Sudan (former)  2015       2          12.0   7.60  17.70          NaN   \n",
       "946    Sudan (former)  2014       1           4.2   1.85   6.75          1.6   \n",
       "...               ...   ...     ...           ...    ...    ...          ...   \n",
       "15571  Sudan (former)  1977       2           2.0   0.70   4.30          0.7   \n",
       "15766  Sudan (former)  1976       1           0.7   0.15   1.50          0.1   \n",
       "15961  Sudan (former)  1976       2           1.9   0.60   4.20          0.6   \n",
       "16156  Sudan (former)  1975       1           0.7   0.15   1.50          0.1   \n",
       "16351  Sudan (former)  1975       2           1.7   0.55   4.10          0.6   \n",
       "\n",
       "       sudan_upper  \n",
       "166            NaN  \n",
       "361            NaN  \n",
       "556            NaN  \n",
       "751            NaN  \n",
       "946            6.2  \n",
       "...            ...  \n",
       "15571          4.3  \n",
       "15766          1.1  \n",
       "15961          4.2  \n",
       "16156          1.1  \n",
       "16351          4.1  \n",
       "\n",
       "[84 rows x 8 columns]"
      ],
      "text/html": "<div>\n<style scoped>\n    .dataframe tbody tr th:only-of-type {\n        vertical-align: middle;\n    }\n\n    .dataframe tbody tr th {\n        vertical-align: top;\n    }\n\n    .dataframe thead th {\n        text-align: right;\n    }\n</style>\n<table border=\"1\" class=\"dataframe\">\n  <thead>\n    <tr style=\"text-align: right;\">\n      <th></th>\n      <th>country</th>\n      <th>year</th>\n      <th>gender</th>\n      <th>obesity_rate</th>\n      <th>lower</th>\n      <th>upper</th>\n      <th>sudan_lower</th>\n      <th>sudan_upper</th>\n    </tr>\n  </thead>\n  <tbody>\n    <tr>\n      <th>166</th>\n      <td>Sudan (former)</td>\n      <td>2016</td>\n      <td>1</td>\n      <td>3.8</td>\n      <td>1.80</td>\n      <td>7.00</td>\n      <td>NaN</td>\n      <td>NaN</td>\n    </tr>\n    <tr>\n      <th>361</th>\n      <td>Sudan (former)</td>\n      <td>2016</td>\n      <td>2</td>\n      <td>12.4</td>\n      <td>7.90</td>\n      <td>18.40</td>\n      <td>NaN</td>\n      <td>NaN</td>\n    </tr>\n    <tr>\n      <th>556</th>\n      <td>Sudan (former)</td>\n      <td>2015</td>\n      <td>1</td>\n      <td>3.6</td>\n      <td>1.70</td>\n      <td>6.60</td>\n      <td>NaN</td>\n      <td>NaN</td>\n    </tr>\n    <tr>\n      <th>751</th>\n      <td>Sudan (former)</td>\n      <td>2015</td>\n      <td>2</td>\n      <td>12.0</td>\n      <td>7.60</td>\n      <td>17.70</td>\n      <td>NaN</td>\n      <td>NaN</td>\n    </tr>\n    <tr>\n      <th>946</th>\n      <td>Sudan (former)</td>\n      <td>2014</td>\n      <td>1</td>\n      <td>4.2</td>\n      <td>1.85</td>\n      <td>6.75</td>\n      <td>1.6</td>\n      <td>6.2</td>\n    </tr>\n    <tr>\n      <th>...</th>\n      <td>...</td>\n      <td>...</td>\n      <td>...</td>\n      <td>...</td>\n      <td>...</td>\n      <td>...</td>\n      <td>...</td>\n      <td>...</td>\n    </tr>\n    <tr>\n      <th>15571</th>\n      <td>Sudan (former)</td>\n      <td>1977</td>\n      <td>2</td>\n      <td>2.0</td>\n      <td>0.70</td>\n      <td>4.30</td>\n      <td>0.7</td>\n      <td>4.3</td>\n    </tr>\n    <tr>\n      <th>15766</th>\n      <td>Sudan (former)</td>\n      <td>1976</td>\n      <td>1</td>\n      <td>0.7</td>\n      <td>0.15</td>\n      <td>1.50</td>\n      <td>0.1</td>\n      <td>1.1</td>\n    </tr>\n    <tr>\n      <th>15961</th>\n      <td>Sudan (former)</td>\n      <td>1976</td>\n      <td>2</td>\n      <td>1.9</td>\n      <td>0.60</td>\n      <td>4.20</td>\n      <td>0.6</td>\n      <td>4.2</td>\n    </tr>\n    <tr>\n      <th>16156</th>\n      <td>Sudan (former)</td>\n      <td>1975</td>\n      <td>1</td>\n      <td>0.7</td>\n      <td>0.15</td>\n      <td>1.50</td>\n      <td>0.1</td>\n      <td>1.1</td>\n    </tr>\n    <tr>\n      <th>16351</th>\n      <td>Sudan (former)</td>\n      <td>1975</td>\n      <td>2</td>\n      <td>1.7</td>\n      <td>0.55</td>\n      <td>4.10</td>\n      <td>0.6</td>\n      <td>4.1</td>\n    </tr>\n  </tbody>\n</table>\n<p>84 rows × 8 columns</p>\n</div>"
     },
     "metadata": {},
     "execution_count": 32
    }
   ],
   "source": [
    "# For entries where country is 'Sudan (former)' and year is <= 2014, average the value in column 'upper' with the value in 'sudan_upper', then replace the old average in column 'upper' with this new average.\n",
    "rawdata.loc[(rawdata.country == 'Sudan (former)') & (rawdata.year <= 2014), 'upper'] = (\n",
    "    rawdata.loc[(rawdata.country == 'Sudan (former)') & (rawdata.year <= 2014), 'upper'] + \n",
    "    rawdata.loc[(rawdata.country == 'Sudan (former)') & (rawdata.year <= 2014), 'sudan_upper']\n",
    "    )/2\n",
    "\n",
    "rawdata[(rawdata.country == 'Sudan (former)')]"
   ]
  },
  {
   "cell_type": "code",
   "execution_count": 33,
   "metadata": {},
   "outputs": [
    {
     "output_type": "execute_result",
     "data": {
      "text/plain": [
       "                                  country  year  gender  obesity_rate  lower  \\\n",
       "0                             Afghanistan  2016       1           3.2    1.3   \n",
       "1                                 Albania  2016       1          21.6   14.8   \n",
       "2                                 Algeria  2016       1          19.9   13.6   \n",
       "3                                 Andorra  2016       1          25.9   18.0   \n",
       "4                                  Angola  2016       1           4.0    1.6   \n",
       "...                                   ...   ...     ...           ...    ...   \n",
       "16375  Venezuela (Bolivarian Republic of)  1975       2          13.2    7.1   \n",
       "16376                            Viet Nam  1975       2           0.2    0.1   \n",
       "16377                               Yemen  1975       2           4.2    1.5   \n",
       "16378                              Zambia  1975       2           2.5    1.0   \n",
       "16379                            Zimbabwe  1975       2           6.7    3.0   \n",
       "\n",
       "       upper  \n",
       "0        6.4  \n",
       "1       29.0  \n",
       "2       27.1  \n",
       "3       34.3  \n",
       "4        7.9  \n",
       "...      ...  \n",
       "16375   20.7  \n",
       "16376    0.5  \n",
       "16377    8.9  \n",
       "16378    5.1  \n",
       "16379   12.2  \n",
       "\n",
       "[16044 rows x 6 columns]"
      ],
      "text/html": "<div>\n<style scoped>\n    .dataframe tbody tr th:only-of-type {\n        vertical-align: middle;\n    }\n\n    .dataframe tbody tr th {\n        vertical-align: top;\n    }\n\n    .dataframe thead th {\n        text-align: right;\n    }\n</style>\n<table border=\"1\" class=\"dataframe\">\n  <thead>\n    <tr style=\"text-align: right;\">\n      <th></th>\n      <th>country</th>\n      <th>year</th>\n      <th>gender</th>\n      <th>obesity_rate</th>\n      <th>lower</th>\n      <th>upper</th>\n    </tr>\n  </thead>\n  <tbody>\n    <tr>\n      <th>0</th>\n      <td>Afghanistan</td>\n      <td>2016</td>\n      <td>1</td>\n      <td>3.2</td>\n      <td>1.3</td>\n      <td>6.4</td>\n    </tr>\n    <tr>\n      <th>1</th>\n      <td>Albania</td>\n      <td>2016</td>\n      <td>1</td>\n      <td>21.6</td>\n      <td>14.8</td>\n      <td>29.0</td>\n    </tr>\n    <tr>\n      <th>2</th>\n      <td>Algeria</td>\n      <td>2016</td>\n      <td>1</td>\n      <td>19.9</td>\n      <td>13.6</td>\n      <td>27.1</td>\n    </tr>\n    <tr>\n      <th>3</th>\n      <td>Andorra</td>\n      <td>2016</td>\n      <td>1</td>\n      <td>25.9</td>\n      <td>18.0</td>\n      <td>34.3</td>\n    </tr>\n    <tr>\n      <th>4</th>\n      <td>Angola</td>\n      <td>2016</td>\n      <td>1</td>\n      <td>4.0</td>\n      <td>1.6</td>\n      <td>7.9</td>\n    </tr>\n    <tr>\n      <th>...</th>\n      <td>...</td>\n      <td>...</td>\n      <td>...</td>\n      <td>...</td>\n      <td>...</td>\n      <td>...</td>\n    </tr>\n    <tr>\n      <th>16375</th>\n      <td>Venezuela (Bolivarian Republic of)</td>\n      <td>1975</td>\n      <td>2</td>\n      <td>13.2</td>\n      <td>7.1</td>\n      <td>20.7</td>\n    </tr>\n    <tr>\n      <th>16376</th>\n      <td>Viet Nam</td>\n      <td>1975</td>\n      <td>2</td>\n      <td>0.2</td>\n      <td>0.1</td>\n      <td>0.5</td>\n    </tr>\n    <tr>\n      <th>16377</th>\n      <td>Yemen</td>\n      <td>1975</td>\n      <td>2</td>\n      <td>4.2</td>\n      <td>1.5</td>\n      <td>8.9</td>\n    </tr>\n    <tr>\n      <th>16378</th>\n      <td>Zambia</td>\n      <td>1975</td>\n      <td>2</td>\n      <td>2.5</td>\n      <td>1.0</td>\n      <td>5.1</td>\n    </tr>\n    <tr>\n      <th>16379</th>\n      <td>Zimbabwe</td>\n      <td>1975</td>\n      <td>2</td>\n      <td>6.7</td>\n      <td>3.0</td>\n      <td>12.2</td>\n    </tr>\n  </tbody>\n</table>\n<p>16044 rows × 6 columns</p>\n</div>"
     },
     "metadata": {},
     "execution_count": 33
    }
   ],
   "source": [
    "# Dropping columns 'sudan_lower and 'sudan_upper'.\n",
    "rawdata.drop(['sudan_lower','sudan_upper'], axis=1, inplace=True)\n",
    "rawdata"
   ]
  },
  {
   "cell_type": "code",
   "execution_count": 34,
   "metadata": {},
   "outputs": [
    {
     "output_type": "execute_result",
     "data": {
      "text/plain": [
       "              country  year  gender  obesity_rate  lower  upper\n",
       "166    Sudan (former)  2016       1         3.800   1.80   7.00\n",
       "361    Sudan (former)  2016       2        12.400   7.90  18.40\n",
       "556    Sudan (former)  2015       1         3.600   1.70   6.60\n",
       "751    Sudan (former)  2015       2        12.000   7.60  17.70\n",
       "946    Sudan (former)  2014       1         4.300   1.85   6.75\n",
       "...               ...   ...     ...           ...    ...    ...\n",
       "15571  Sudan (former)  1977       2         2.500   0.70   4.30\n",
       "15766  Sudan (former)  1976       1         0.825   0.15   1.50\n",
       "15961  Sudan (former)  1976       2         2.400   0.60   4.20\n",
       "16156  Sudan (former)  1975       1         0.825   0.15   1.50\n",
       "16351  Sudan (former)  1975       2         2.325   0.55   4.10\n",
       "\n",
       "[84 rows x 6 columns]"
      ],
      "text/html": "<div>\n<style scoped>\n    .dataframe tbody tr th:only-of-type {\n        vertical-align: middle;\n    }\n\n    .dataframe tbody tr th {\n        vertical-align: top;\n    }\n\n    .dataframe thead th {\n        text-align: right;\n    }\n</style>\n<table border=\"1\" class=\"dataframe\">\n  <thead>\n    <tr style=\"text-align: right;\">\n      <th></th>\n      <th>country</th>\n      <th>year</th>\n      <th>gender</th>\n      <th>obesity_rate</th>\n      <th>lower</th>\n      <th>upper</th>\n    </tr>\n  </thead>\n  <tbody>\n    <tr>\n      <th>166</th>\n      <td>Sudan (former)</td>\n      <td>2016</td>\n      <td>1</td>\n      <td>3.800</td>\n      <td>1.80</td>\n      <td>7.00</td>\n    </tr>\n    <tr>\n      <th>361</th>\n      <td>Sudan (former)</td>\n      <td>2016</td>\n      <td>2</td>\n      <td>12.400</td>\n      <td>7.90</td>\n      <td>18.40</td>\n    </tr>\n    <tr>\n      <th>556</th>\n      <td>Sudan (former)</td>\n      <td>2015</td>\n      <td>1</td>\n      <td>3.600</td>\n      <td>1.70</td>\n      <td>6.60</td>\n    </tr>\n    <tr>\n      <th>751</th>\n      <td>Sudan (former)</td>\n      <td>2015</td>\n      <td>2</td>\n      <td>12.000</td>\n      <td>7.60</td>\n      <td>17.70</td>\n    </tr>\n    <tr>\n      <th>946</th>\n      <td>Sudan (former)</td>\n      <td>2014</td>\n      <td>1</td>\n      <td>4.300</td>\n      <td>1.85</td>\n      <td>6.75</td>\n    </tr>\n    <tr>\n      <th>...</th>\n      <td>...</td>\n      <td>...</td>\n      <td>...</td>\n      <td>...</td>\n      <td>...</td>\n      <td>...</td>\n    </tr>\n    <tr>\n      <th>15571</th>\n      <td>Sudan (former)</td>\n      <td>1977</td>\n      <td>2</td>\n      <td>2.500</td>\n      <td>0.70</td>\n      <td>4.30</td>\n    </tr>\n    <tr>\n      <th>15766</th>\n      <td>Sudan (former)</td>\n      <td>1976</td>\n      <td>1</td>\n      <td>0.825</td>\n      <td>0.15</td>\n      <td>1.50</td>\n    </tr>\n    <tr>\n      <th>15961</th>\n      <td>Sudan (former)</td>\n      <td>1976</td>\n      <td>2</td>\n      <td>2.400</td>\n      <td>0.60</td>\n      <td>4.20</td>\n    </tr>\n    <tr>\n      <th>16156</th>\n      <td>Sudan (former)</td>\n      <td>1975</td>\n      <td>1</td>\n      <td>0.825</td>\n      <td>0.15</td>\n      <td>1.50</td>\n    </tr>\n    <tr>\n      <th>16351</th>\n      <td>Sudan (former)</td>\n      <td>1975</td>\n      <td>2</td>\n      <td>2.325</td>\n      <td>0.55</td>\n      <td>4.10</td>\n    </tr>\n  </tbody>\n</table>\n<p>84 rows × 6 columns</p>\n</div>"
     },
     "metadata": {},
     "execution_count": 34
    }
   ],
   "source": [
    "# Calculating new obesity_rate entries where country is 'Sudan (former)' and year is <= 2014.\n",
    "rawdata.loc[(rawdata.country == 'Sudan (former)') & (rawdata.year <= 2014), 'obesity_rate'] = (\n",
    "    rawdata.loc[(rawdata.country == 'Sudan (former)') & (rawdata.year <= 2014), 'lower'] + \n",
    "    rawdata.loc[(rawdata.country == 'Sudan (former)') & (rawdata.year <= 2014), 'upper']\n",
    "    )/2\n",
    "\n",
    "rawdata[(rawdata.country == 'Sudan (former)')]"
   ]
  },
  {
   "cell_type": "code",
   "execution_count": null,
   "metadata": {},
   "outputs": [],
   "source": [
    "# Exporting cleaned data  as .csv to do exploratory analysis separately.\n",
    "rawdata.to_csv('data-explore1.csv', index=False)"
   ]
  }
 ]
}